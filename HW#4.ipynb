{
 "cells": [
  {
   "cell_type": "code",
   "execution_count": 11,
   "metadata": {},
   "outputs": [
    {
     "name": "stdout",
     "output_type": "stream",
     "text": [
      "Sample Standard Deviation of number 1 to 100 = 29.0115\n"
     ]
    }
   ],
   "source": [
    "# ch4.期中作業 4\n",
    "# 利用 numpy 提供的方法實作樣本標準差函數\n",
    "\n",
    "import math\n",
    "import numpy as np\n",
    "\n",
    "def NpStd(lst):\n",
    "    '''\n",
    "    請輸入一個數值的 list\n",
    "    '''\n",
    "    num_arr = np.array(lst).reshape(1, len(lst))\n",
    "    return math.sqrt(np.sum((lst - np.mean(lst))**2) / (np.size(lst) - 1))\n",
    "\n",
    "stdlist = list(range(1, 101))\n",
    "\n",
    "# print(stdlist)         # 印出 list 的內容\n",
    "print(\"Sample Standard Deviation of number 1 to 100 = %.4f\" % NpStd(stdlist))"
   ]
  }
 ],
 "metadata": {
  "kernelspec": {
   "display_name": "Python 3",
   "language": "python",
   "name": "python3"
  },
  "language_info": {
   "codemirror_mode": {
    "name": "ipython",
    "version": 3
   },
   "file_extension": ".py",
   "mimetype": "text/x-python",
   "name": "python",
   "nbconvert_exporter": "python",
   "pygments_lexer": "ipython3",
   "version": "3.6.1"
  }
 },
 "nbformat": 4,
 "nbformat_minor": 2
}
