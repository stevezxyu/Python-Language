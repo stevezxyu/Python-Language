{
 "cells": [
  {
   "cell_type": "code",
   "execution_count": 1,
   "metadata": {},
   "outputs": [
    {
     "name": "stdout",
     "output_type": "stream",
     "text": [
      "Monday\n",
      "Tuesday\n",
      "Wednesday\n",
      "Thursday\n",
      "Friday\n"
     ]
    }
   ],
   "source": [
    "weekdays = [\"Monday\", \"Tuesday\", \"Wednesday\", \"Thursday\", \"Friday\"]\n",
    "\n",
    "# 迴圈結構\n",
    "for weekday in weekdays:\n",
    "    print(weekday)"
   ]
  },
  {
   "cell_type": "code",
   "execution_count": 8,
   "metadata": {},
   "outputs": [
    {
     "name": "stdout",
     "output_type": "stream",
     "text": [
      "Monday\n",
      "Tuesday\n",
      "Wednesday\n",
      "Thursday\n",
      "Friday\n",
      "4\n"
     ]
    }
   ],
   "source": [
    "weekdays = [\"Monday\", \"Tuesday\", \"Wednesday\", \"Thursday\", \"Friday\"]\n",
    "\n",
    "for ind in range(5):\n",
    "    print(weekdays[ind])       # 先 build這段 code, ind = index, interater\n",
    "print(ind)"
   ]
  },
  {
   "cell_type": "code",
   "execution_count": 9,
   "metadata": {},
   "outputs": [
    {
     "name": "stdout",
     "output_type": "stream",
     "text": [
      "range(0, 5)\n",
      "[0, 1, 2, 3, 4]\n",
      "[1, 3]\n"
     ]
    }
   ],
   "source": [
    "print(range(5))\n",
    "print(list(range(5)))          # python3 必須轉換成 list形式\n",
    "print(list(range(1, 5, 2)))    # range 可產生公差"
   ]
  },
  {
   "cell_type": "code",
   "execution_count": 11,
   "metadata": {},
   "outputs": [
    {
     "name": "stdout",
     "output_type": "stream",
     "text": [
      "[('country', 'Taiwan'), ('city', 'Taipei')]\n",
      "country:city\n",
      "Taiwan:Taipei\n"
     ]
    }
   ],
   "source": [
    "tw_dict = {\n",
    "    \"country\": \"Taiwan\",\n",
    "    \"city\":\"Taipei\"\n",
    "}\n",
    "\n",
    "print(list(tw_dict.items()))\n",
    "\n",
    "for (key, value) in (tw_dict.keys(), tw_dict.values()):\n",
    "    print(\"%s:%s\" % (key, value))"
   ]
  },
  {
   "cell_type": "code",
   "execution_count": 18,
   "metadata": {},
   "outputs": [
    {
     "name": "stdout",
     "output_type": "stream",
     "text": [
      "5050\n"
     ]
    }
   ],
   "source": [
    "# 練習1 用 for 迴圈計算 1 加到 100\n",
    "one_to_hundred = range(1,101)     # 101 不被 range包括, 先用 list(range(1,101)) print驗證\n",
    "summation = 0\n",
    "\n",
    "for element in one_to_hundred:\n",
    "    summation += element\n",
    "\n",
    "print(summation)"
   ]
  },
  {
   "cell_type": "code",
   "execution_count": 19,
   "metadata": {},
   "outputs": [
    {
     "name": "stdout",
     "output_type": "stream",
     "text": [
      "100\n"
     ]
    }
   ],
   "source": [
    "# 練習2 用 for 迴圈計算 1 到 100 的數字個數\n",
    "cnt = 0\n",
    "\n",
    "for element in range(1,101):\n",
    "    cnt += 1\n",
    "\n",
    "print(cnt)"
   ]
  },
  {
   "cell_type": "code",
   "execution_count": 20,
   "metadata": {},
   "outputs": [
    {
     "name": "stdout",
     "output_type": "stream",
     "text": [
      "3628800\n"
     ]
    }
   ],
   "source": [
    "# 練習3 用 for 迴圈計算 10!\n",
    "factorial = 1\n",
    "\n",
    "for element in range(1,11):\n",
    "    factorial *= element\n",
    "\n",
    "print(factorial)"
   ]
  },
  {
   "cell_type": "code",
   "execution_count": 21,
   "metadata": {},
   "outputs": [
    {
     "name": "stdout",
     "output_type": "stream",
     "text": [
      "50.5\n"
     ]
    }
   ],
   "source": [
    "# 練習4 用 for 迴圈計算 1 到 100 的平均數\n",
    "summation = 0\n",
    "cnt = 0\n",
    "\n",
    "for element in range(1, 101):\n",
    "    summation += element\n",
    "    cnt += 1\n",
    "    \n",
    "avg = summation / cnt\n",
    "print(avg)"
   ]
  }
 ],
 "metadata": {
  "kernelspec": {
   "display_name": "Python 3",
   "language": "python",
   "name": "python3"
  },
  "language_info": {
   "codemirror_mode": {
    "name": "ipython",
    "version": 3
   },
   "file_extension": ".py",
   "mimetype": "text/x-python",
   "name": "python",
   "nbconvert_exporter": "python",
   "pygments_lexer": "ipython3",
   "version": "3.6.1"
  }
 },
 "nbformat": 4,
 "nbformat_minor": 2
}
