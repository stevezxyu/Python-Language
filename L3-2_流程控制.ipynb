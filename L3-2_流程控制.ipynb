{
 "cells": [
  {
   "cell_type": "code",
   "execution_count": 3,
   "metadata": {},
   "outputs": [
    {
     "ename": "IndentationError",
     "evalue": "unexpected indent (<ipython-input-3-38115d682292>, line 7)",
     "output_type": "error",
     "traceback": [
      "\u001b[1;36m  File \u001b[1;32m\"<ipython-input-3-38115d682292>\"\u001b[1;36m, line \u001b[1;32m7\u001b[0m\n\u001b[1;33m    if today_weather == \"晴天\":\u001b[0m\n\u001b[1;37m    ^\u001b[0m\n\u001b[1;31mIndentationError\u001b[0m\u001b[1;31m:\u001b[0m unexpected indent\n"
     ]
    }
   ],
   "source": [
    "# if-else練習, false\n",
    "# 練習：晴天印\"去戶外跑步\"，否則印\"去健身房\"。\n",
    "from random import choice\n",
    "\n",
    "weather = [\"晴天\", \"陰天\", \"雨天\"]\n",
    "today_weather = choice(weather)\n",
    "    if today_weather == \"晴天\":\n",
    "        print(iterator, \"晴天\")\n",
    "    if today_weather == \"陰天\":\n",
    "        print(iterator, \"陰天\")\n",
    "    else:\n",
    "        print(iterator, \"雨天\")"
   ]
  },
  {
   "cell_type": "code",
   "execution_count": 11,
   "metadata": {},
   "outputs": [
    {
     "name": "stdout",
     "output_type": "stream",
     "text": [
      "今天的天氣是晴天，要去戶外跑步\n"
     ]
    }
   ],
   "source": [
    "# if-else練習\n",
    "# 練習：晴天印\"去戶外跑步\"，否則印\"去健身房\"。\n",
    "# 解答\n",
    "from random import choice \n",
    "\n",
    "weather = [\"晴天\", \"陰天\", \"雨天\"]\n",
    "today_weather = choice(weather)\n",
    "\n",
    "if today_weather == \"晴天\":\n",
    "    print(\"今天的天氣是%s，要去戶外跑步\" % today_weather)\n",
    "else:\n",
    "    print(\"今天的天氣是%s，要去健身房\" % today_weather)"
   ]
  },
  {
   "cell_type": "code",
   "execution_count": 13,
   "metadata": {},
   "outputs": [
    {
     "name": "stdout",
     "output_type": "stream",
     "text": [
      "今天的天氣是多雲，要去戶外跑步\n"
     ]
    }
   ],
   "source": [
    "# if-elif-else練習\n",
    "# 練習：晴天或多雲印\"去戶外跑步\"，毛毛雨印\"去健身房\"，否則印\"當沙發馬鈴薯\"\n",
    "from random import choice\n",
    "weather = [\"晴天\", \"多雲\", \"毛毛雨\", \"狂風\", \"暴雨\", \"下雪\", \"打雷閃電\"]\n",
    "today_weather = choice(weather)\n",
    "\n",
    "if today_weather in (\"晴天\", \"多雲\"):                      # 也可以用 or\n",
    "    print(\"今天的天氣是%s，要去戶外跑步\" % today_weather)\n",
    "elif today_weather == \"毛毛雨\":\n",
    "    print(\"今天的天氣是%s，要去健身房\" % today_weather)\n",
    "else:\n",
    "    print(\"今天的天氣是%s，當沙發馬鈴薯\" % today_weather)"
   ]
  },
  {
   "cell_type": "code",
   "execution_count": 15,
   "metadata": {},
   "outputs": [
    {
     "name": "stdout",
     "output_type": "stream",
     "text": [
      "Monday\n",
      "Tuesday\n",
      "Wednesday\n",
      "Thursday\n",
      "Friday\n"
     ]
    }
   ],
   "source": [
    "# 練習：印出週間工作日\n",
    "weekdays = [\"Sunday\", \"Monday\", \"Tuesday\", \"Wednesday\", \"Thursday\", \"Friday\", \"Saturday\"]\n",
    "for weekday in weekdays:\n",
    "    if weekday in (\"Sunday\", \"Saturday\"):\n",
    "        continue\n",
    "    print(weekday)"
   ]
  }
 ],
 "metadata": {
  "kernelspec": {
   "display_name": "Python 3",
   "language": "python",
   "name": "python3"
  },
  "language_info": {
   "codemirror_mode": {
    "name": "ipython",
    "version": 3
   },
   "file_extension": ".py",
   "mimetype": "text/x-python",
   "name": "python",
   "nbconvert_exporter": "python",
   "pygments_lexer": "ipython3",
   "version": "3.6.1"
  }
 },
 "nbformat": 4,
 "nbformat_minor": 2
}
