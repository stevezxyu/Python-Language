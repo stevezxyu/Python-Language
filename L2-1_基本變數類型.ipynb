{
 "cells": [
  {
   "cell_type": "code",
   "execution_count": 5,
   "metadata": {},
   "outputs": [
    {
     "name": "stdout",
     "output_type": "stream",
     "text": [
      "False\n",
      "False\n",
      "False\n",
      "True\n",
      "True\n",
      "True\n"
     ]
    }
   ],
   "source": [
    "print(7 in [5, 6])\n",
    "print(True and False)    # and 只要有一邊是 False, output就會是 False\n",
    "print(True & False)      # and equal \"&\"\n",
    "print(True or False)     # or 只要有一邊是 True, output就會是 True\n",
    "print(True | False)      # or equal \"|\"\n",
    "print(not False)"
   ]
  },
  {
   "cell_type": "code",
   "execution_count": 13,
   "metadata": {},
   "outputs": [
    {
     "name": "stdout",
     "output_type": "stream",
     "text": [
      "I'm loving it!\n",
      "I do not think you will be just \"anybody\".\n",
      "no\te\n",
      "book\n"
     ]
    }
   ],
   "source": [
    "McD = 'I\\'m loving it!'   # 使用\"\"含括字串, \"'\" or \"\\'\" 就能顯示在字串內 \n",
    "print(McD)\n",
    "\n",
    "sentence = \"I do not think you will be just \\\"anybody\\\".\"    # 字串內要顯示\"\", 使用\\\"\\\"含括字串\n",
    "print(sentence)\n",
    "\n",
    "nb = \"no\\te\\nbook\"       # \\t 是tab, \\n 是換行\n",
    "print(nb)"
   ]
  },
  {
   "cell_type": "code",
   "execution_count": 18,
   "metadata": {},
   "outputs": [
    {
     "name": "stdout",
     "output_type": "stream",
     "text": [
      "圓周率是: 3.141591\n",
      "圓周率是: 3.14\n",
      "圓周率是: 3.14\n"
     ]
    }
   ],
   "source": [
    "pi = 3.141591\n",
    "str_obj = \"圓周率\"\n",
    "\n",
    "print(\"圓周率是: %s\" % pi)             # %s 可挖空填入字串, 將要填入的檔案書入在 %之後\n",
    "print(\"圓周率是: %.2f\" % pi)           # %f 保留小數點\n",
    "print(\"%s是: %.2f\" % (str_obj, pi))"
   ]
  }
 ],
 "metadata": {
  "kernelspec": {
   "display_name": "Python 3",
   "language": "python",
   "name": "python3"
  },
  "language_info": {
   "codemirror_mode": {
    "name": "ipython",
    "version": 3
   },
   "file_extension": ".py",
   "mimetype": "text/x-python",
   "name": "python",
   "nbconvert_exporter": "python",
   "pygments_lexer": "ipython3",
   "version": "3.6.1"
  }
 },
 "nbformat": 4,
 "nbformat_minor": 2
}
