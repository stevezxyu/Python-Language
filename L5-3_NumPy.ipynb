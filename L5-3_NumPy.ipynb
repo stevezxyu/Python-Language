{
 "cells": [
  {
   "cell_type": "code",
   "execution_count": 6,
   "metadata": {},
   "outputs": [
    {
     "name": "stdout",
     "output_type": "stream",
     "text": [
      "int32\n",
      "float64\n",
      "<U4\n"
     ]
    }
   ],
   "source": [
    "# 資料類型\n",
    "# 使用 dtype 屬性來指定或檢視\n",
    "# 可用 int, float, complex, bool, string_ , unicode_\n",
    "import numpy as np\n",
    "arr = np.ones(5, dtype = 'int32')\n",
    "print(arr.dtype)\n",
    "arr = np.ones(5, dtype = 'float64')\n",
    "print(arr.dtype)\n",
    "\n",
    "arr = np.array([\"中文\", \"One\", \"True\"])\n",
    "print(arr.dtype)"
   ]
  },
  {
   "cell_type": "code",
   "execution_count": 7,
   "metadata": {},
   "outputs": [
    {
     "name": "stdout",
     "output_type": "stream",
     "text": [
      "<U11\n",
      "['100' 'False' 'True']\n"
     ]
    }
   ],
   "source": [
    "# ndarray 只能容許一個變數類型\n",
    "# 同時儲存有數值，布林值，會被自動轉換為數值\n",
    "# 同時儲存有數值，布林值與文字，會被自動轉換為文字\n",
    "\n",
    "arr = np.array([100, False, 'True'])      # 給預設值, 自動轉換為文字\n",
    "print(arr.dtype)\n",
    "print(arr)"
   ]
  },
  {
   "cell_type": "code",
   "execution_count": 10,
   "metadata": {},
   "outputs": [
    {
     "name": "stdout",
     "output_type": "stream",
     "text": [
      "[10 14 16]\n"
     ]
    }
   ],
   "source": [
    "# 用索引值可以可以跳著選值\n",
    "arr = np.arange(10, 20)\n",
    "print(arr[[0, 4, 6]])"
   ]
  },
  {
   "cell_type": "code",
   "execution_count": 9,
   "metadata": {},
   "outputs": [
    {
     "ename": "TypeError",
     "evalue": "list indices must be integers or slices, not tuple",
     "output_type": "error",
     "traceback": [
      "\u001b[1;31m---------------------------------------------------------------------------\u001b[0m",
      "\u001b[1;31mTypeError\u001b[0m                                 Traceback (most recent call last)",
      "\u001b[1;32m<ipython-input-9-6fb53d02abcf>\u001b[0m in \u001b[0;36m<module>\u001b[1;34m()\u001b[0m\n\u001b[0;32m      1\u001b[0m \u001b[0mlst\u001b[0m \u001b[1;33m=\u001b[0m \u001b[0mlist\u001b[0m\u001b[1;33m(\u001b[0m\u001b[0mrange\u001b[0m\u001b[1;33m(\u001b[0m\u001b[1;36m10\u001b[0m\u001b[1;33m,\u001b[0m \u001b[1;36m20\u001b[0m\u001b[1;33m)\u001b[0m\u001b[1;33m)\u001b[0m\u001b[1;33m\u001b[0m\u001b[0m\n\u001b[1;32m----> 2\u001b[1;33m \u001b[0mprint\u001b[0m\u001b[1;33m(\u001b[0m\u001b[0mlst\u001b[0m\u001b[1;33m[\u001b[0m\u001b[1;36m0\u001b[0m\u001b[1;33m,\u001b[0m \u001b[1;36m4\u001b[0m\u001b[1;33m,\u001b[0m \u001b[1;36m6\u001b[0m\u001b[1;33m]\u001b[0m\u001b[1;33m)\u001b[0m\u001b[1;33m\u001b[0m\u001b[0m\n\u001b[0m",
      "\u001b[1;31mTypeError\u001b[0m: list indices must be integers or slices, not tuple"
     ]
    }
   ],
   "source": [
    "# list 無法跳著選值\n",
    "lst = list(range(10, 20))\n",
    "print(lst[0, 4, 6])"
   ]
  },
  {
   "cell_type": "code",
   "execution_count": 11,
   "metadata": {},
   "outputs": [
    {
     "name": "stdout",
     "output_type": "stream",
     "text": [
      "[10 11 12 13 14]\n",
      "[15 16 17 18 19]\n",
      "[10 13 16 19]\n"
     ]
    }
   ],
   "source": [
    "arr = np.arange(10, 20)\n",
    "print(arr[:5])\n",
    "print(arr[5:])\n",
    "print(arr[0:10:3])\n",
    "# 實務上是用條件選元素"
   ]
  },
  {
   "cell_type": "code",
   "execution_count": 13,
   "metadata": {},
   "outputs": [
    {
     "name": "stdout",
     "output_type": "stream",
     "text": [
      "[False False False False False False  True  True  True  True]\n",
      "[16 17 18 19]\n"
     ]
    }
   ],
   "source": [
    "arr = np.arange(10, 20)\n",
    "print(arr > 15)            # 用條件式判斷後回傳\n",
    "print(arr[arr > 15])"
   ]
  },
  {
   "cell_type": "code",
   "execution_count": 14,
   "metadata": {},
   "outputs": [
    {
     "name": "stdout",
     "output_type": "stream",
     "text": [
      "6\n",
      "[3 4]\n"
     ]
    }
   ],
   "source": [
    "arr = np.array([\n",
    "    [1, 3, 5], \n",
    "    [2, 4, 6]\n",
    "])\n",
    "print(arr[1, 2])     # 第一個 row, 第二個 column值\n",
    "print(arr[:, 1])     # 全部 row的第一個 column值 "
   ]
  },
  {
   "cell_type": "code",
   "execution_count": 19,
   "metadata": {},
   "outputs": [
    {
     "name": "stdout",
     "output_type": "stream",
     "text": [
      "[[[ 0  1]\n",
      "  [ 2  3]\n",
      "  [ 4  5]\n",
      "  [ 6  7]\n",
      "  [ 8  9]]\n",
      "\n",
      " [[10 11]\n",
      "  [12 13]\n",
      "  [14 15]\n",
      "  [16 17]\n",
      "  [18 19]]]\n"
     ]
    }
   ],
   "source": [
    "arr = np.arange(20).reshape(2, 5, 2)\n",
    "print(arr)"
   ]
  },
  {
   "cell_type": "code",
   "execution_count": 32,
   "metadata": {},
   "outputs": [
    {
     "name": "stdout",
     "output_type": "stream",
     "text": [
      "[19 19 17 36 90]\n",
      "[19 19 17 36 90]\n"
     ]
    }
   ],
   "source": [
    "# 練習 1\n",
    "# 選出未滿 20 與超過 30 的元素\n",
    "\n",
    "age = np.array([19, 21, 20, 19, 21, 17, 30, 36, 90])     # 記得要轉換成 array\n",
    "# print((age < 20) | (age > 30))\n",
    "age_filter = (age < 20) | (age > 30)\n",
    "print(age[age_filter])\n",
    "age_filter = np.logical_or(age < 20, age > 30)           # 適用 array 的 logical_or\n",
    "print(age[age_filter])"
   ]
  },
  {
   "cell_type": "code",
   "execution_count": 33,
   "metadata": {},
   "outputs": [
    {
     "name": "stdout",
     "output_type": "stream",
     "text": [
      "[ 21.85171573  21.75028214  24.7473475   21.44127836]\n"
     ]
    }
   ],
   "source": [
    "# 練習 2\n",
    "# 從五人中選出 BMI > 21 的元素\n",
    "\n",
    "heights = np.array([173, 168, 171, 189, 179])\n",
    "weights = np.array([65.4, 59.2, 63.6, 88.4, 68.7])\n",
    "bmis = weights / (heights/100)**2\n",
    "print(bmis[bmis > 21])"
   ]
  },
  {
   "cell_type": "code",
   "execution_count": 39,
   "metadata": {},
   "outputs": [
    {
     "name": "stdout",
     "output_type": "stream",
     "text": [
      "['Lisa Kudrow' 'Matthew Perry']\n",
      "['Lisa Kudrow' 'Matthew Perry']\n"
     ]
    }
   ],
   "source": [
    "# 練習 3\n",
    "# 使用布林選出 Matthew Perry 與 Lisa Kudrow\n",
    "\n",
    "friends_stars = np.array([\"Jennifer Aniston\", \"Courteney Cox\", \"Lisa Kudrow\",\n",
    "\"Matt LeBlanc\", \"Matthew Perry\", \"David Schwimmer\"])\n",
    "\n",
    "charcter_filter = np.logical_or(friends_stars == \"Lisa Kudrow\", friends_stars == \"Matthew Perry\")\n",
    "print(friends_stars[charcter_filter])\n",
    "\n",
    "charcter_filter = np.in1d(friends_stars, [\"Lisa Kudrow\", \"Matthew Perry\"])\n",
    "print(friends_stars[charcter_filter])"
   ]
  }
 ],
 "metadata": {
  "kernelspec": {
   "display_name": "Python 3",
   "language": "python",
   "name": "python3"
  },
  "language_info": {
   "codemirror_mode": {
    "name": "ipython",
    "version": 3
   },
   "file_extension": ".py",
   "mimetype": "text/x-python",
   "name": "python",
   "nbconvert_exporter": "python",
   "pygments_lexer": "ipython3",
   "version": "3.6.1"
  }
 },
 "nbformat": 4,
 "nbformat_minor": 2
}
