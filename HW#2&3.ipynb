{
 "cells": [
  {
   "cell_type": "code",
   "execution_count": 3,
   "metadata": {},
   "outputs": [
    {
     "name": "stdout",
     "output_type": "stream",
     "text": [
      "['5', '5', '3', '6', '6', '3', '4', '1', '5', '4', '5', '2', '6']\n",
      "13\n"
     ]
    }
   ],
   "source": [
    "# ch6.期中作業 2-1\n",
    "# 投擲一枚公正的骰子，總共出現三個六才停止\n",
    "from random import choice\n",
    "\n",
    "dice = [\"1\", \"2\", \"3\", \"4\", \"5\", \"6\"]\n",
    "\n",
    "flips=[]                             # 將頭擲骰子的結果放進向量\n",
    "while flips.count(\"6\") < 3:\n",
    "    flips.append(choice(dice))       # 從骰子 dice, 選取 choice\n",
    "\n",
    "print(flips)\n",
    "print(len(flips))"
   ]
  },
  {
   "cell_type": "code",
   "execution_count": 22,
   "metadata": {},
   "outputs": [
    {
     "name": "stdout",
     "output_type": "stream",
     "text": [
      "x_bar is 50.5000\n",
      "summation is 5050\n",
      "std is : 29.0115\n"
     ]
    }
   ],
   "source": [
    "# ch6.期中作業 2-2\n",
    "# 實作標準差的計算\n",
    "# 計算 range(1, 101) 的標準差\n",
    "\n",
    "import math\n",
    "seq = list(range(1, 101))\n",
    "\n",
    "summation = 0\n",
    "sqe = 0                  # Sum of Square Error\n",
    "\n",
    "# calculator sample summation and X_bar\n",
    "for i in seq:\n",
    "    summation += i\n",
    "    if (i == len(seq)):                      # 設定邏輯判斷式\n",
    "        x_bar = summation / len(seq)\n",
    "    \n",
    "for j in seq:\n",
    "    sqe += (j - x_bar)**2\n",
    "    if (j == len(seq)):\n",
    "        std = math.sqrt(sqe / (len(seq) - 1))\n",
    "            \n",
    "print( \"x_bar is %.4f\" % x_bar)\n",
    "print( \"summation is %4.f\" % summation)\n",
    "print( \"std is : %.4f\" % std)"
   ]
  },
  {
   "cell_type": "code",
   "execution_count": 27,
   "metadata": {},
   "outputs": [
    {
     "name": "stdout",
     "output_type": "stream",
     "text": [
      "被87整除的因數:  [1, 3, 29, 87]\n"
     ]
    }
   ],
   "source": [
    "# ch7.期中作業 3-1\n",
    "# 印出所有可以將 87 整除的因數（正數）\n",
    "\n",
    "sqe = list(range(1, 88))\n",
    "factor=[]\n",
    "for i in sqe:\n",
    "    if (87 % i == 0 ):\n",
    "        factor.append(i)             # 如果為 true, 將 value丟進 factor的向量裡\n",
    "print(\"被87整除的因數: \" ,factor)"
   ]
  },
  {
   "cell_type": "code",
   "execution_count": 48,
   "metadata": {},
   "outputs": [
    {
     "name": "stdout",
     "output_type": "stream",
     "text": [
      "  1\n",
      "  2\n",
      "  3 Bingo!\n",
      "  4\n",
      "  5 Awesome!\n",
      "  6 Bingo!\n",
      "  7\n",
      "  8\n",
      "  9 Bingo!\n",
      " 10 Awesome!\n",
      " 11\n",
      " 12 Bingo!\n",
      " 13\n",
      " 14\n",
      " 15 Fantastic!\n",
      " 16\n",
      " 17\n",
      " 18 Bingo!\n",
      " 19\n",
      " 20 Awesome!\n",
      " 21 Bingo!\n",
      " 22\n",
      " 23\n",
      " 24 Bingo!\n",
      " 25 Awesome!\n",
      " 26\n",
      " 27 Bingo!\n",
      " 28\n",
      " 29\n",
      " 30 Fantastic!\n",
      " 31\n",
      " 32\n",
      " 33 Bingo!\n",
      " 34\n",
      " 35 Awesome!\n",
      " 36 Bingo!\n",
      " 37\n",
      " 38\n",
      " 39 Bingo!\n",
      " 40 Awesome!\n",
      " 41\n",
      " 42 Bingo!\n",
      " 43\n",
      " 44\n",
      " 45 Fantastic!\n",
      " 46\n",
      " 47\n",
      " 48 Bingo!\n",
      " 49\n",
      " 50 Awesome!\n",
      " 51 Bingo!\n",
      " 52\n",
      " 53\n",
      " 54 Bingo!\n",
      " 55 Awesome!\n",
      " 56\n",
      " 57 Bingo!\n",
      " 58\n",
      " 59\n",
      " 60 Fantastic!\n",
      " 61\n",
      " 62\n",
      " 63 Bingo!\n",
      " 64\n",
      " 65 Awesome!\n",
      " 66 Bingo!\n",
      " 67\n",
      " 68\n",
      " 69 Bingo!\n",
      " 70 Awesome!\n",
      " 71\n",
      " 72 Bingo!\n",
      " 73\n",
      " 74\n",
      " 75 Fantastic!\n",
      " 76\n",
      " 77\n",
      " 78 Bingo!\n",
      " 79\n",
      " 80 Awesome!\n",
      " 81 Bingo!\n",
      " 82\n",
      " 83\n",
      " 84 Bingo!\n",
      " 85 Awesome!\n",
      " 86\n",
      " 87 Bingo!\n",
      " 88\n",
      " 89\n",
      " 90 Fantastic!\n",
      " 91\n",
      " 92\n",
      " 93 Bingo!\n",
      " 94\n",
      " 95 Awesome!\n",
      " 96 Bingo!\n",
      " 97\n",
      " 98\n",
      " 99 Bingo!\n",
      "100 Awesome!\n"
     ]
    }
   ],
   "source": [
    "# ch7.期中作業 3-2\n",
    "'''\n",
    "將 1 到 100 印出，但是：\n",
    "碰到 3 的倍數印出 \"Bingo!\"\n",
    "碰到 5 的倍數印出 \"Awesome!\"\n",
    "碰到 15 的倍數印出 \"Fantastic!\"\n",
    "'''\n",
    "\n",
    "sqe = list(range(1, 101))\n",
    "\n",
    "for i in sqe:\n",
    "    if (i % 15 == 0):\n",
    "        print(\"%3.i Fantastic!\" % i)      # %3.i 整數前三位對齊取出 i值\n",
    "    elif (i % 5 == 0):\n",
    "        print(\"%3.i Awesome!\" % i)\n",
    "    elif (i % 3 == 0):\n",
    "        print(\"%3.i Bingo!\" % i)\n",
    "    else:\n",
    "        print(\"%3.i\" % i)"
   ]
  }
 ],
 "metadata": {
  "kernelspec": {
   "display_name": "Python 3",
   "language": "python",
   "name": "python3"
  },
  "language_info": {
   "codemirror_mode": {
    "name": "ipython",
    "version": 3
   },
   "file_extension": ".py",
   "mimetype": "text/x-python",
   "name": "python",
   "nbconvert_exporter": "python",
   "pygments_lexer": "ipython3",
   "version": "3.6.1"
  }
 },
 "nbformat": 4,
 "nbformat_minor": 2
}
