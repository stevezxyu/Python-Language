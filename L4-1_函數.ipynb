{
 "cells": [
  {
   "cell_type": "code",
   "execution_count": 4,
   "metadata": {},
   "outputs": [
    {
     "name": "stdout",
     "output_type": "stream",
     "text": [
      "[1, 3, 5, 7, 9]\n",
      "<map object at 0x0000000004877AC8>\n"
     ]
    }
   ],
   "source": [
    "# 匿名函數\n",
    "# 又稱為 lambda 函數\n",
    "# 不需要 def、return 的敘述\n",
    "my_list = range(1, 11)\n",
    "\n",
    "print(list(filter(lambda x : x % 2 == 1, my_list)))\n",
    "print(map(lambda x : x**2, my_list))"
   ]
  },
  {
   "cell_type": "code",
   "execution_count": 5,
   "metadata": {},
   "outputs": [
    {
     "name": "stdout",
     "output_type": "stream",
     "text": [
      "Jennifer Aniston\n",
      "Courteney Cox\n",
      "Lisa Kudrow\n",
      "Matt LeBlanc\n",
      "Matthew Perry\n",
      "David Schwimmer\n"
     ]
    }
   ],
   "source": [
    "# *args 允許我們在函數中直接輸入容器中的資料\n",
    "# 不需要先將輸入資料儲存在容器中（例如 list）\n",
    "\n",
    "# 非彈性參數的作法\n",
    "def output_stars(stars):\n",
    "    '將輸入的 list 元素一一輸出'\n",
    "    for star in stars:\n",
    "        print(star)\n",
    "\n",
    "stars_list = [\"Jennifer Aniston\", \"Courteney Cox\", \"Lisa Kudrow\", \n",
    "\"Matt LeBlanc\", \"Matthew Perry\", \"David Schwimmer\"]\n",
    "output_stars(stars_list)"
   ]
  },
  {
   "cell_type": "code",
   "execution_count": 6,
   "metadata": {},
   "outputs": [
    {
     "name": "stdout",
     "output_type": "stream",
     "text": [
      "Jennifer Aniston\n",
      "Courteney Cox\n",
      "Lisa Kudrow\n",
      "Matt LeBlanc\n",
      "Matthew Perry\n",
      "David Schwimmer\n"
     ]
    }
   ],
   "source": [
    "# 彈性參數的作法\n",
    "def output_stars(*args):\n",
    "    '將輸入的演員一一輸出'\n",
    "    for star in args:\n",
    "        print(star)\n",
    "\n",
    "output_stars(\"Jennifer Aniston\", \"Courteney Cox\", \"Lisa Kudrow\",\n",
    "             \"Matt LeBlanc\", \"Matthew Perry\", \"David Schwimmer\")"
   ]
  },
  {
   "cell_type": "code",
   "execution_count": 7,
   "metadata": {},
   "outputs": [
    {
     "name": "stdout",
     "output_type": "stream",
     "text": [
      "genre: SitCom\n",
      "seasons: 10\n",
      "episodes: 236\n",
      "stars: ['Jennifer Aniston', 'Courteney Cox', 'Lisa Kudrow', 'Matt LeBlanc', 'Matthew Perry', 'David Schwimmer']\n"
     ]
    }
   ],
   "source": [
    "# **kwargs 允許我們在函數中直接輸入容器中的資料\n",
    "# 不需要先將輸入資料儲存在容器中（例如 dict）\n",
    "\n",
    "# 非彈性參數的作法\n",
    "def output_info(infos):\n",
    "    '將輸入的 dict 元素一一輸出'\n",
    "    for (key, value) in infos.items():\n",
    "        print(\"%s: %s\" % (key, value))\n",
    "\n",
    "series_info = {\n",
    "    \"genre\": \"SitCom\",\n",
    "    \"seasons\": 10,\n",
    "    \"episodes\": 236,\n",
    "    \"stars\": [\"Jennifer Aniston\", \"Courteney Cox\", \"Lisa Kudrow\",\n",
    "             \"Matt LeBlanc\", \"Matthew Perry\", \"David Schwimmer\"]\n",
    "}\n",
    "\n",
    "output_info(series_info)"
   ]
  },
  {
   "cell_type": "code",
   "execution_count": 8,
   "metadata": {},
   "outputs": [
    {
     "name": "stdout",
     "output_type": "stream",
     "text": [
      "genre: Sitcom\n",
      "seasons: 10\n",
      "episodes: 236\n",
      "stars: ['Jennifer Aniston', 'Courteney Cox', 'Lisa Kudrow', 'Matt LeBlanc', 'Matthew Perry', 'David Schwimmer']\n"
     ]
    }
   ],
   "source": [
    "# 彈性參數的作法\n",
    "def output_info(**kwargs):\n",
    "    '將影集資訊一一輸出'\n",
    "    for info in kwargs:\n",
    "        print(\"%s: %s\" % (info, kwargs[info]))\n",
    "\n",
    "output_info(genre = 'Sitcom', seasons = 10, episodes = 236, \n",
    "            stars = [\"Jennifer Aniston\", \"Courteney Cox\", \"Lisa Kudrow\",\n",
    "             \"Matt LeBlanc\", \"Matthew Perry\", \"David Schwimmer\"])"
   ]
  }
 ],
 "metadata": {
  "kernelspec": {
   "display_name": "Python 3",
   "language": "python",
   "name": "python3"
  },
  "language_info": {
   "codemirror_mode": {
    "name": "ipython",
    "version": 3
   },
   "file_extension": ".py",
   "mimetype": "text/x-python",
   "name": "python",
   "nbconvert_exporter": "python",
   "pygments_lexer": "ipython3",
   "version": "3.6.1"
  }
 },
 "nbformat": 4,
 "nbformat_minor": 2
}
