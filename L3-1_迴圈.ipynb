{
 "cells": [
  {
   "cell_type": "code",
   "execution_count": 2,
   "metadata": {},
   "outputs": [
    {
     "name": "stdout",
     "output_type": "stream",
     "text": [
      "8\n",
      "7\n"
     ]
    }
   ],
   "source": [
    "# a = 8\n",
    "# b = 7\n",
    "a, b = 8, 7\n",
    "\n",
    "print(\"Before exchanging: \")\n",
    "print(\"\")"
   ]
  },
  {
   "cell_type": "code",
   "execution_count": 3,
   "metadata": {},
   "outputs": [
    {
     "name": "stdout",
     "output_type": "stream",
     "text": [
      "['Tail', 'Head', 'Tail', 'Head', 'Tail', 'Head']\n",
      "6\n"
     ]
    }
   ],
   "source": [
    "# 投擲一枚公正的硬幣，出現三次正面才停止\n",
    "from random import choice\n",
    "\n",
    "coin = [\"Head\", \"Tail\"]\n",
    "flips = []\n",
    "while flips.count(\"Head\") < 3:\n",
    "    flips.append(choice(coin))\n",
    "\n",
    "print(flips)\n",
    "print(len(flips))"
   ]
  },
  {
   "cell_type": "code",
   "execution_count": 21,
   "metadata": {},
   "outputs": [
    {
     "name": "stdout",
     "output_type": "stream",
     "text": [
      "[0, 1, 2, 3, 4, 5, 6, 7, 8, 9]\n",
      "0 位置的內容是 Monday\n",
      "1 位置的內容是 Tuesday\n",
      "2 位置的內容是 Wednesday\n",
      "3 位置的內容是 Thursday\n",
      "4 位置的內容是 Friday\n"
     ]
    }
   ],
   "source": [
    "# 使用 enumerate() 函數\n",
    "# 同時使用 sequence 的索引值與其中的內容值\n",
    "weekdays = [\"Monday\", \"Tuesday\", \"Wednesday\", \"Thursday\", \"Friday\"]\n",
    "print(list(range(10)))\n",
    "# weekdays_w_idx = enumerate(weekdays)\n",
    "# print(list(weekdays_w_idx))\n",
    "\n",
    "for idx, value in enumerate(weekdays):\n",
    "      print(\"%i 位置的內容是 %s\" % (idx, value))"
   ]
  },
  {
   "cell_type": "code",
   "execution_count": 15,
   "metadata": {},
   "outputs": [
    {
     "name": "stdout",
     "output_type": "stream",
     "text": [
      "(('Monday', '星期一'), ('Tuesday', '星期二'), ('Wednesday', '星期三'), ('Thursday', '星期四'), ('Friday', '星期五'))\n",
      "Monday 的中文是星期一\n",
      "Tuesday 的中文是星期二\n",
      "Wednesday 的中文是星期三\n",
      "Thursday 的中文是星期四\n",
      "Friday 的中文是星期五\n"
     ]
    }
   ],
   "source": [
    "# 使用 zip() 函數\n",
    "# 同時使用兩個以上 sequences 的內容值\n",
    "weekdays = [\"Monday\", \"Tuesday\", \"Wednesday\", \"Thursday\", \"Friday\"]\n",
    "weekdays_ch = [\"星期一\", \"星期二\", \"星期三\", \"星期四\", \"星期五\"]\n",
    "print(tuple(zip(weekdays,weekdays_ch)))\n",
    "\n",
    "for weekday, weekday_ch in zip(weekdays,weekdays_ch):\n",
    "    print(\"%s 的中文是%s\"%(weekday, weekday_ch))"
   ]
  }
 ],
 "metadata": {
  "kernelspec": {
   "display_name": "Python 3",
   "language": "python",
   "name": "python3"
  },
  "language_info": {
   "codemirror_mode": {
    "name": "ipython",
    "version": 3
   },
   "file_extension": ".py",
   "mimetype": "text/x-python",
   "name": "python",
   "nbconvert_exporter": "python",
   "pygments_lexer": "ipython3",
   "version": "3.6.1"
  }
 },
 "nbformat": 4,
 "nbformat_minor": 2
}
