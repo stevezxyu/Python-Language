{
 "cells": [
  {
   "cell_type": "code",
   "execution_count": 24,
   "metadata": {},
   "outputs": [
    {
     "name": "stdout",
     "output_type": "stream",
     "text": [
      "<class 'float'>\n",
      "<class 'int'>\n",
      "<class 'complex'>\n",
      "<class 'bool'>\n",
      "<class 'bool'>\n",
      "<class 'bool'>\n",
      "<class 'bool'>\n",
      "<class 'str'>\n",
      "type可辨認內容的Class\n"
     ]
    }
   ],
   "source": [
    "print(type(8.7))\n",
    "print(type(87))\n",
    "print(type(8 + 7j))\n",
    "print(type(8 > 7))\n",
    "print(type(8 < 7))\n",
    "print(type(True))\n",
    "print(type(False))\n",
    "print(type(\"Python for Data Science\"))\n",
    "print(\"type可辨認內容的Class\")"
   ]
  },
  {
   "cell_type": "code",
   "execution_count": 25,
   "metadata": {},
   "outputs": [
    {
     "name": "stdout",
     "output_type": "stream",
     "text": [
      "22.857142857142858\n",
      "9\n",
      "True\n",
      "True\n"
     ]
    }
   ],
   "source": [
    "print(70 / (175 / 100)**2)\n",
    "print(8 + True)\n",
    "print(1 == True)\n",
    "print(0 == False)"
   ]
  },
  {
   "cell_type": "code",
   "execution_count": 26,
   "metadata": {},
   "outputs": [
    {
     "name": "stdout",
     "output_type": "stream",
     "text": [
      "22.857142857142858\n"
     ]
    }
   ],
   "source": [
    "my_height = 175\n",
    "my_weight = 70\n",
    "\n",
    "bmi = my_weight / (my_height / 100 ) **2\n",
    "print(bmi)"
   ]
  },
  {
   "cell_type": "code",
   "execution_count": 29,
   "metadata": {},
   "outputs": [
    {
     "name": "stdout",
     "output_type": "stream",
     "text": [
      "Happy coding!\n",
      "Happy coding!!!\n",
      "1\n",
      "Happy coding1\n"
     ]
    }
   ],
   "source": [
    "print(\"Happy coding\" + \"!\")\n",
    "print(\"Happy coding\" + \"!\" * 3)\n",
    "print(str(1))\n",
    "print(\"Happy coding\" + str(1))"
   ]
  },
  {
   "cell_type": "code",
   "execution_count": 30,
   "metadata": {},
   "outputs": [
    {
     "name": "stdout",
     "output_type": "stream",
     "text": [
      "這場路跑必須跑 10 公里。\n"
     ]
    }
   ],
   "source": [
    "distance = 10\n",
    "print(\"這場路跑必須跑 \" + str(distance) + \" 公里。\")"
   ]
  },
  {
   "cell_type": "code",
   "execution_count": 31,
   "metadata": {},
   "outputs": [
    {
     "name": "stdout",
     "output_type": "stream",
     "text": [
      "10\n"
     ]
    }
   ],
   "source": [
    "distance = 5\n",
    "distance *= 2    # distance = distance * 2\n",
    "print(distance)"
   ]
  },
  {
   "cell_type": "code",
   "execution_count": 37,
   "metadata": {},
   "outputs": [
    {
     "name": "stdout",
     "output_type": "stream",
     "text": [
      "True\n",
      "<class 'str'>\n"
     ]
    }
   ],
   "source": [
    "distance = \"True\"\n",
    "distance = bool(\"True\")\n",
    "print(str(distance))\n",
    "print(type(str(distance)))"
   ]
  },
  {
   "cell_type": "code",
   "execution_count": null,
   "metadata": {
    "collapsed": true
   },
   "outputs": [],
   "source": []
  }
 ],
 "metadata": {
  "kernelspec": {
   "display_name": "Python 3",
   "language": "python",
   "name": "python3"
  },
  "language_info": {
   "codemirror_mode": {
    "name": "ipython",
    "version": 3
   },
   "file_extension": ".py",
   "mimetype": "text/x-python",
   "name": "python",
   "nbconvert_exporter": "python",
   "pygments_lexer": "ipython3",
   "version": "3.6.1"
  }
 },
 "nbformat": 4,
 "nbformat_minor": 2
}
