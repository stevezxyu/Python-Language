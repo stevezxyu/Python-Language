{
 "cells": [
  {
   "cell_type": "code",
   "execution_count": 1,
   "metadata": {},
   "outputs": [
    {
     "name": "stdout",
     "output_type": "stream",
     "text": [
      "[[ 0  1  4  9 16]\n",
      " [25 36 49 64 81]]\n"
     ]
    }
   ],
   "source": [
    "import numpy as np\n",
    "\n",
    "# 二維矩陣運算\n",
    "arr_1 = np.arange(10).reshape(2, 5)\n",
    "arr_2 = np.arange(10).reshape(2, 5)\n",
    "# 2*5 矩陣無法乘上內積\n",
    "\n",
    "print(arr_1 * arr_2)"
   ]
  },
  {
   "cell_type": "code",
   "execution_count": 2,
   "metadata": {},
   "outputs": [
    {
     "name": "stdout",
     "output_type": "stream",
     "text": [
      "[[0 1]\n",
      " [4 9]]\n",
      "[[ 2  3]\n",
      " [ 6 11]]\n"
     ]
    }
   ],
   "source": [
    "import numpy as np\n",
    "\n",
    "# 二維的 ndarray 可以進行矩陣的內積運算\n",
    "# 使用 .dot() 方法或 np.dot()\n",
    "arr_1 = np.arange(4).reshape(2, 2)\n",
    "arr_2 = np.arange(4).reshape(2, 2)\n",
    "print(arr_1 * arr_2)\n",
    "print(np.dot(arr_1, arr_2))   # 可使用 dot作矩陣乘績"
   ]
  },
  {
   "cell_type": "code",
   "execution_count": 41,
   "metadata": {},
   "outputs": [
    {
     "name": "stdout",
     "output_type": "stream",
     "text": [
      "[[-4]]\n",
      "[[-4]]\n"
     ]
    }
   ],
   "source": [
    "# 練習 1\n",
    "u = np.array([4, -4, -3]).reshape(3, 1)\n",
    "v = np.array([4, 2, 4]).reshape(3, 1)\n",
    "\n",
    "print(np.dot(u.transpose(), v))\n",
    "# 另一種乘積方式\n",
    "print(u.T.dot(v))"
   ]
  },
  {
   "cell_type": "code",
   "execution_count": 7,
   "metadata": {},
   "outputs": [
    {
     "name": "stdout",
     "output_type": "stream",
     "text": [
      "[[-4]]\n"
     ]
    }
   ],
   "source": [
    "# 練習 1, 老師解法\n",
    "\n",
    "u_T = np.array([\n",
    "    [4, -4, -3]\n",
    "])\n",
    "v = np.array([\n",
    "    [4],\n",
    "    [2],\n",
    "    [4]\n",
    "])\n",
    "\n",
    "# 轉置函數\n",
    "print(np.dot(u_T, v))"
   ]
  },
  {
   "cell_type": "code",
   "execution_count": 11,
   "metadata": {},
   "outputs": [
    {
     "name": "stdout",
     "output_type": "stream",
     "text": [
      "[[ 1.  2.  3.]\n",
      " [ 4.  5.  6.]\n",
      " [ 7.  8.  9.]]\n",
      "[[ 1.  2.  3.]\n",
      " [ 4.  5.  6.]\n",
      " [ 7.  8.  9.]]\n"
     ]
    }
   ],
   "source": [
    "# 練習 2\n",
    "\n",
    "A = np.arange(1, 10).reshape(3, 3)\n",
    "I = np.eye(3)\n",
    "print(np.dot(A, I))\n",
    "print(np.dot(I, A))   # 順序交換不影響結果"
   ]
  },
  {
   "cell_type": "code",
   "execution_count": 13,
   "metadata": {},
   "outputs": [
    {
     "name": "stdout",
     "output_type": "stream",
     "text": [
      "[[ 1.  2.  3.]\n",
      " [ 4.  5.  6.]\n",
      " [ 7.  8.  9.]]\n",
      "[[ 1.  2.  3.]\n",
      " [ 4.  5.  6.]\n",
      " [ 7.  8.  9.]]\n"
     ]
    }
   ],
   "source": [
    "# 練習 3\n",
    "\n",
    "import numpy as np\n",
    "\n",
    "A = np.array([\n",
    "    [1, 2, 3],\n",
    "    [4, 5, 6],\n",
    "    [7, 8, 9]\n",
    "])\n",
    "I = np.eye(3)\n",
    "\n",
    "print(np.dot(A, I))\n",
    "print(np.dot(I, A))"
   ]
  },
  {
   "cell_type": "code",
   "execution_count": 12,
   "metadata": {},
   "outputs": [
    {
     "name": "stdout",
     "output_type": "stream",
     "text": [
      "[[ 8  5]\n",
      " [26 17]]\n",
      "[[16 23]\n",
      " [ 6  9]]\n"
     ]
    }
   ],
   "source": [
    "# 練習 4\n",
    "\n",
    "import numpy as np\n",
    "\n",
    "A = np.array([\n",
    "    [1, 2],\n",
    "    [4, 5]\n",
    "])\n",
    "B = np.array([\n",
    "    [4, 3],\n",
    "    [2, 1]\n",
    "])\n",
    "\n",
    "print(np.dot(A, B))\n",
    "print(np.dot(B, A))"
   ]
  },
  {
   "cell_type": "code",
   "execution_count": 17,
   "metadata": {},
   "outputs": [
    {
     "name": "stdout",
     "output_type": "stream",
     "text": [
      "6\n",
      "(2, 3)\n",
      "2\n"
     ]
    }
   ],
   "source": [
    "import numpy as np\n",
    "\n",
    "A = np.array([\n",
    "    [1, 2, 3],\n",
    "    [4, 5, 6]\n",
    "])\n",
    "B = np.array([\n",
    "    [4, 3],\n",
    "    [2, 1]\n",
    "])\n",
    "\n",
    "# 元素個數：.size\n",
    "# 外觀：.shape\n",
    "# 維度：.ndim\n",
    "print(A.size)\n",
    "print(A.shape)   # 回傳 tuple\n",
    "print(A.ndim)"
   ]
  },
  {
   "cell_type": "code",
   "execution_count": 24,
   "metadata": {},
   "outputs": [
    {
     "name": "stdout",
     "output_type": "stream",
     "text": [
      "[[ 4 -4  3]]\n",
      "[ 0  1  2  3  4  5  6  7  8  9 10 11 12 13 14 15]\n",
      "[999 999 999 999 999 999 999 999   8   9  10  11  12  13  14  15]\n"
     ]
    }
   ],
   "source": [
    "# 變形：.reshape(m, n)\n",
    "# 轉置：.T\n",
    "# 攤平：.ravel()\n",
    "# 依條件取代：.where()\n",
    "\n",
    "A = np.arange(16).reshape(2, 2, 4)   # \n",
    "B = np.array([\n",
    "    [4, 3],\n",
    "    [2, 1]\n",
    "])\n",
    "\n",
    "u = np.array([\n",
    "    [4],\n",
    "    [-4],\n",
    "    [3]\n",
    "])\n",
    "\n",
    "u_T = u.T\n",
    "A = A.ravel()\n",
    "print(u_T)\n",
    "print(A.ravel())\n",
    "print(np.where(A < 8, 999, A))"
   ]
  },
  {
   "cell_type": "code",
   "execution_count": 26,
   "metadata": {},
   "outputs": [
    {
     "name": "stdout",
     "output_type": "stream",
     "text": [
      "[[ 0  1  2  3]\n",
      " [ 4  5  6  7]\n",
      " [ 8  9 10 11]\n",
      " [12 13 14 15]]\n",
      "\n",
      "\n",
      "[24 28 32 36]\n",
      "\n",
      "\n",
      "[ 6 22 38 54]\n"
     ]
    }
   ],
   "source": [
    "import numpy as np\n",
    "\n",
    "A = np.arange(16).reshape(4, 4)\n",
    "print(A)\n",
    "print(\"\\n\")\n",
    "print(np.sum(A, axis = 0))    # 做 column 的加總\n",
    "print(\"\\n\")\n",
    "print(np.sum(A, axis = 1))    # 做 row 的加總"
   ]
  },
  {
   "cell_type": "code",
   "execution_count": 32,
   "metadata": {},
   "outputs": [
    {
     "name": "stdout",
     "output_type": "stream",
     "text": [
      "[[ 1  2  3  4  5  6  7  8  9]\n",
      " [ 2  4  6  8 10 12 14 16 18]\n",
      " [ 3  6  9 12 15 18 21 24 27]\n",
      " [ 4  8 12 16 20 24 28 32 36]\n",
      " [ 5 10 15 20 25 30 35 40 45]\n",
      " [ 6 12 18 24 30 36 42 48 54]\n",
      " [ 7 14 21 28 35 42 49 56 63]\n",
      " [ 8 16 24 32 40 48 56 64 72]\n",
      " [ 9 18 27 36 45 54 63 72 81]]\n"
     ]
    }
   ],
   "source": [
    "# 練習 5\n",
    "# 建立一個外觀為 (9, 9) 的 ndarray\n",
    "# 填入九九乘法表\n",
    "\n",
    "A = np.arange(1, 10).reshape(1, 9)\n",
    "# B = A.T\n",
    "# print(A)\n",
    "# print(B)\n",
    "print(A.T * A)"
   ]
  },
  {
   "cell_type": "code",
   "execution_count": 33,
   "metadata": {},
   "outputs": [
    {
     "name": "stdout",
     "output_type": "stream",
     "text": [
      "[[ 1  2  3  4  5  6  7  8  9]\n",
      " [ 2  4  6  8 10 12 14 16 18]\n",
      " [ 3  6  9 12 15 18 21 24 27]\n",
      " [ 4  8 12 16 20 24 28 32 36]\n",
      " [ 5 10 15 20 25 30 35 40 45]\n",
      " [ 6 12 18 24 30 36 42 48 54]\n",
      " [ 7 14 21 28 35 42 49 56 63]\n",
      " [ 8 16 24 32 40 48 56 64 72]\n",
      " [ 9 18 27 36 45 54 63 72 81]]\n"
     ]
    }
   ],
   "source": [
    "# 練習 5, 老師解法\n",
    "# 建立一個外觀為 (9, 9) 的 ndarray\n",
    "# 填入九九乘法表\n",
    "\n",
    "arr_1 = np.arange(1,10).reshape(9, 1)\n",
    "arr_2 = np.arange(1,10).reshape(1, 9)\n",
    "print(np.dot(arr_1, arr_2))"
   ]
  },
  {
   "cell_type": "code",
   "execution_count": 42,
   "metadata": {},
   "outputs": [
    {
     "name": "stdout",
     "output_type": "stream",
     "text": [
      "[[ 1  2  3  4  5  6  7  8  9]\n",
      " [ 2  4  6  8 10 12 14 16 18]\n",
      " [ 3  6  9 12 15 18 21 24 27]\n",
      " [ 4  8 12 16 20 24 28 32 36]\n",
      " [ 5 10 15 20 25 30 35 40 45]\n",
      " [ 6 12 18 24 30 36 42 48 54]\n",
      " [ 7 14 21 28 35 42 49 56 63]\n",
      " [ 8 16 24 32 40 48 56 64 72]\n",
      " [ 9 18 27 36 45 54 63 72 81]]\n",
      "======\n",
      "[['1x1=1' '1x2=2' '1x3=3' '1x4=4' '1x5=5' '1x6=6' '1x7=7' '1x8=8' '1x9=9']\n",
      " ['2x1=2' '2x2=4' '2x3=6' '2x4=8' '2x5=10' '2x6=12' '2x7=14' '2x8=16'\n",
      "  '2x9=18']\n",
      " ['3x1=3' '3x2=6' '3x3=9' '3x4=12' '3x5=15' '3x6=18' '3x7=21' '3x8=24'\n",
      "  '3x9=27']\n",
      " ['4x1=4' '4x2=8' '4x3=12' '4x4=16' '4x5=20' '4x6=24' '4x7=28' '4x8=32'\n",
      "  '4x9=36']\n",
      " ['5x1=5' '5x2=10' '5x3=15' '5x4=20' '5x5=25' '5x6=30' '5x7=35' '5x8=40'\n",
      "  '5x9=45']\n",
      " ['6x1=6' '6x2=12' '6x3=18' '6x4=24' '6x5=30' '6x6=36' '6x7=42' '6x8=48'\n",
      "  '6x9=54']\n",
      " ['7x1=7' '7x2=14' '7x3=21' '7x4=28' '7x5=35' '7x6=42' '7x7=49' '7x8=56'\n",
      "  '7x9=63']\n",
      " ['8x1=8' '8x2=16' '8x3=24' '8x4=32' '8x5=40' '8x6=48' '8x7=56' '8x8=64'\n",
      "  '8x9=72']\n",
      " ['9x1=9' '9x2=18' '9x3=27' '9x4=36' '9x5=45' '9x6=54' '9x7=63' '9x8=72'\n",
      "  '9x9=81']]\n"
     ]
    }
   ],
   "source": [
    "import numpy as np\n",
    "\n",
    "arr_1 = np.arange(1, 10).reshape(9, 1)\n",
    "arr_2 = np.arange(1, 10).reshape(1, 9)\n",
    "print(np.dot(arr_1, arr_2))\n",
    "\n",
    "print(\"======\")\n",
    "\n",
    "mat = np.zeros(81).reshape(9, 9)\n",
    "mat = mat.astype('str')\n",
    "nrow, ncol = mat.shape\n",
    "\n",
    "for i in range(nrow):\n",
    "    for j in range(ncol):\n",
    "        mat[i, j] = str(i+1) + \"x\" + str(j+1) + \"=\" + str((i+1)*(j+1))\n",
    "\n",
    "print(mat)"
   ]
  }
 ],
 "metadata": {
  "kernelspec": {
   "display_name": "Python 3",
   "language": "python",
   "name": "python3"
  },
  "language_info": {
   "codemirror_mode": {
    "name": "ipython",
    "version": 3
   },
   "file_extension": ".py",
   "mimetype": "text/x-python",
   "name": "python",
   "nbconvert_exporter": "python",
   "pygments_lexer": "ipython3",
   "version": "3.6.1"
  }
 },
 "nbformat": 4,
 "nbformat_minor": 2
}
