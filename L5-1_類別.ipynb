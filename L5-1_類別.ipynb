{
 "cells": [
  {
   "cell_type": "code",
   "execution_count": 1,
   "metadata": {},
   "outputs": [
    {
     "name": "stdout",
     "output_type": "stream",
     "text": [
      "城堡生產特殊兵種與巨型投石車\n"
     ]
    }
   ],
   "source": [
    "class Building():\n",
    "    '''\n",
    "    建築物類別\n",
    "    '''\n",
    "    def __init__(self, name, unit):\n",
    "        self.name = name\n",
    "        self.unit = unit\n",
    "    \n",
    "    def create(self):\n",
    "        return \"%s生產%s\" %(self.name, self.unit)\n",
    "\n",
    "class Castle(Building):\n",
    "    '''\n",
    "    城堡類別\n",
    "    '''\n",
    "    def __init__(self, name, unit, siege_unit):\n",
    "        super().__init__(name, unit)\n",
    "        self.siege_unit = siege_unit\n",
    "    \n",
    "    def create(self):\n",
    "        return \"%s生產%s與%s\" %(self.name, self.unit, self.siege_unit)\n",
    "\n",
    "castle = Castle(\"城堡\", \"特殊兵種\", \"巨型投石車\")\n",
    "print(castle.create())"
   ]
  },
  {
   "cell_type": "code",
   "execution_count": 5,
   "metadata": {},
   "outputs": [
    {
     "name": "stdout",
     "output_type": "stream",
     "text": [
      "卡洛特\n",
      "悟空使用龜派氣功！\n",
      "貝吉塔使用終極閃光！\n"
     ]
    }
   ],
   "source": [
    "# 隨堂練習 1 & 2\n",
    "'''\n",
    "定義一個類別 DBFighter\n",
    "一個屬性：姓名\n",
    "三個方法：拳、踢、氣功波\n",
    "'''\n",
    "\n",
    "'''\n",
    "定義一個類別 Goku 繼承 DBFighter，\n",
    "增加原名（Kakarot）、新增龜派氣功方法（Kamehameha），\n",
    "利用 Goku 建立 goku 物件，印出原名與使用龜派氣功方法\n",
    "'''\n",
    "\n",
    "'''\n",
    "定義一個類別 Vegeta 繼承 DBFighter，新增終極閃光方法（final_flash），\n",
    "利用  Vegeta 建立 vegeta 物件，印出姓名與使用終極閃光方法\n",
    "'''\n",
    "\n",
    "class DBFighter():\n",
    "    '''\n",
    "    七龍珠格鬥遊戲\n",
    "    '''\n",
    "    def __init__(self, name):\n",
    "        self.name = name\n",
    "    \n",
    "    def punch(self):\n",
    "        return \"%s使用拳擊！\" % self.name\n",
    "    \n",
    "    def kick(self):\n",
    "        return \"%s使用踢擊！\" % self.name\n",
    "    \n",
    "    def shock_wave(self):\n",
    "        return \"%s使用氣功波！\" % self.name\n",
    "    \n",
    "class Goku(DBFighter):                            # 類別具有繼承的特性\n",
    "    '''\n",
    "    悟空類別\n",
    "    '''\n",
    "    def __init__(self, name, original_name):\n",
    "        super().__init__(name)                    # 使用 super() 繼承母類別的屬性, 使用 pass一樣會繼承 \n",
    "        self.original_name = original_name\n",
    "    \n",
    "    def kamehameha(self):\n",
    "        return \"%s使用龜派氣功！\" % self.name\n",
    "\n",
    "class Vegeta(DBFighter):\n",
    "    '''\n",
    "    貝吉塔類別\n",
    "    '''\n",
    "    def final_flash(self):\n",
    "        return \"%s使用終極閃光！\" % self.name\n",
    "\n",
    "goku = Goku(\"悟空\", \"卡洛特\")\n",
    "vegeta = Vegeta(\"貝吉塔\")\n",
    "print(goku.original_name)\n",
    "print(goku.kamehameha())\n",
    "print(vegeta.final_flash())"
   ]
  }
 ],
 "metadata": {
  "kernelspec": {
   "display_name": "Python 3",
   "language": "python",
   "name": "python3"
  },
  "language_info": {
   "codemirror_mode": {
    "name": "ipython",
    "version": 3
   },
   "file_extension": ".py",
   "mimetype": "text/x-python",
   "name": "python",
   "nbconvert_exporter": "python",
   "pygments_lexer": "ipython3",
   "version": "3.6.1"
  }
 },
 "nbformat": 4,
 "nbformat_minor": 2
}
