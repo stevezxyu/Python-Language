{
 "cells": [
  {
   "cell_type": "code",
   "execution_count": 1,
   "metadata": {},
   "outputs": [
    {
     "name": "stdout",
     "output_type": "stream",
     "text": [
      "\n",
      "    建築物類別\n",
      "    \n",
      "城鎮中心\n",
      "軍營\n",
      "修道院\n"
     ]
    }
   ],
   "source": [
    "# 類別、物件、屬性與方法的階層關係\n",
    "\n",
    "'''\n",
    " 類別（Class）\n",
    "   物件（Object）\n",
    "     屬性（Attribute）\n",
    "     方法（Method）\n",
    "'''\n",
    "\n",
    "# 建築物（Building）類別有基本屬性為建築物名稱\n",
    "\n",
    "class Building():\n",
    "    '''\n",
    "    建築物類別\n",
    "    '''\n",
    "    def __init__(self, name):                      # __init__() 方法稱為建構子或者初始化方法\n",
    "        self.name = name                           # self 就像是 this 的作用，在使用方法時不需要加入\n",
    "\n",
    "town_center = Building(\"城鎮中心\")                  # 建立建築物名稱\n",
    "barrack = Building(\"軍營\")\n",
    "monastery = Building(\"修道院\")\n",
    "\n",
    "print(town_center.__doc__)                         # __doc__ 屬性可以看類別說明文件\n",
    "print(town_center.name)\n",
    "print(barrack.name)\n",
    "print(monastery.name)"
   ]
  },
  {
   "cell_type": "code",
   "execution_count": 7,
   "metadata": {},
   "outputs": [
    {
     "name": "stdout",
     "output_type": "stream",
     "text": [
      "城鎮中心生產村民\n",
      "軍營生產長劍兵\n",
      "修道院生產僧侶\n"
     ]
    }
   ],
   "source": [
    "# 建築物（Building）類別有基本方法為生產\n",
    "\n",
    "class Building():\n",
    "    '''\n",
    "    建築物類別\n",
    "    '''\n",
    "    def __init__(self, name, unit):\n",
    "        self.name = name\n",
    "        self.unit = unit\n",
    "    \n",
    "    def create(self):                                  # create() 把類別的 name和生產的 unit印出來\n",
    "        return \"%s生產%s\" %(self.name, self.unit)\n",
    "\n",
    "town_center = Building(\"城鎮中心\", \"村民\")              # 建立建築物名稱和單位名稱\n",
    "barrack = Building(\"軍營\", \"長劍兵\")\n",
    "monastery = Building(\"修道院\", \"僧侶\")\n",
    "\n",
    "print(town_center.create())\n",
    "print(barrack.create())\n",
    "print(monastery.create())"
   ]
  },
  {
   "cell_type": "code",
   "execution_count": 8,
   "metadata": {},
   "outputs": [
    {
     "name": "stdout",
     "output_type": "stream",
     "text": [
      "城堡\n",
      "城堡生產特殊兵種\n"
     ]
    }
   ],
   "source": [
    "# 類別具有繼承的特性\n",
    "\n",
    "class Building():\n",
    "    '''\n",
    "    建築物類別\n",
    "    '''\n",
    "    def __init__(self, name, unit):\n",
    "        self.name = name\n",
    "        self.unit = unit\n",
    "    \n",
    "    def create(self):\n",
    "        return \"%s生產%s\" %(self.name, self.unit)\n",
    "\n",
    "class Castle(Building):                # 子類別 Castle() 繼承母類別 Building() 的屬性和方法\n",
    "    '''\n",
    "    城堡類別\n",
    "    '''\n",
    "    pass                               # pass 未做任何事情, 但已經繼承, 仍會和母類別一樣\n",
    "\n",
    "castle = Castle(\"城堡\", \"特殊兵種\")\n",
    "print(castle.name)\n",
    "print(castle.create())"
   ]
  },
  {
   "cell_type": "code",
   "execution_count": 9,
   "metadata": {},
   "outputs": [
    {
     "name": "stdout",
     "output_type": "stream",
     "text": [
      "城堡\n",
      "城堡生產特殊兵種與巨型投石車\n",
      "城堡使用弓箭攻擊\n"
     ]
    }
   ],
   "source": [
    "# 類別繼承之後可以新增或改寫方法\n",
    "\n",
    "class Building():\n",
    "    '''\n",
    "    建築物類別\n",
    "    '''\n",
    "    def __init__(self, name, unit):\n",
    "        self.name = name\n",
    "        self.unit = unit\n",
    "    \n",
    "    def create(self):\n",
    "        return \"%s生產%s\" %(self.name, self.unit)\n",
    "\n",
    "class Castle(Building):\n",
    "    '''\n",
    "    城堡類別\n",
    "    '''\n",
    "    def create(self):                           # 在子類別 Castle() 裡面, 修改 create() 方法\n",
    "        return \"%s生產%s與巨型投石車\" %(self.name, self.unit)\n",
    "    \n",
    "    def attack(self):                           # 在子類別 Castle() 裡面, 新增 attack() 方法\n",
    "        return \"%s使用弓箭攻擊\" %(self.name)\n",
    "\n",
    "castle = Castle(\"城堡\", \"特殊兵種\")\n",
    "print(castle.name)\n",
    "print(castle.create())\n",
    "print(castle.attack())"
   ]
  },
  {
   "cell_type": "code",
   "execution_count": 10,
   "metadata": {},
   "outputs": [
    {
     "name": "stdout",
     "output_type": "stream",
     "text": [
      "城堡生產特殊兵種與巨型投石車\n"
     ]
    }
   ],
   "source": [
    "# 使用 super() 繼承母類別的屬性\n",
    "\n",
    "class Building():\n",
    "    '''\n",
    "    建築物類別\n",
    "    '''\n",
    "    def __init__(self, name, unit):\n",
    "        self.name = name\n",
    "        self.unit = unit\n",
    "    \n",
    "    def create(self):\n",
    "        return \"%s生產%s\" %(self.name, self.unit)\n",
    "\n",
    "class Castle(Building):\n",
    "    '''\n",
    "    城堡類別\n",
    "    '''\n",
    "    def __init__(self, name, unit, siege_unit):      # 在子類別 Castle() 裡面, __init__() 方法中新增 siege 屬性 (攻城單位名稱)\n",
    "        super().__init__(name, unit)                 # super() 繼承母類別的屬性\n",
    "        self.siege_unit = siege_unit\n",
    "    \n",
    "    def create(self):\n",
    "        return \"%s生產%s與%s\" %(self.name, self.unit, self.siege_unit)\n",
    "\n",
    "castle = Castle(\"城堡\", \"特殊兵種\", \"巨型投石車\")\n",
    "print(castle.create())"
   ]
  },
  {
   "cell_type": "code",
   "execution_count": 11,
   "metadata": {},
   "outputs": [
    {
     "name": "stdout",
     "output_type": "stream",
     "text": [
      "卡洛特\n",
      "悟空使用龜派氣功！\n",
      "貝吉塔使用終極閃光！\n"
     ]
    }
   ],
   "source": [
    "# 隨堂練習 1 & 2\n",
    "\n",
    "'''\n",
    "定義一個類別 DBFighter\n",
    "一個屬性：姓名\n",
    "三個方法：拳、踢、氣功波\n",
    "'''\n",
    "\n",
    "'''\n",
    "定義一個類別 Goku 繼承 DBFighter，\n",
    "增加原名（Kakarot）、新增龜派氣功方法（Kamehameha），\n",
    "利用 Goku 建立 goku 物件，印出原名與使用龜派氣功方法\n",
    "'''\n",
    "\n",
    "'''\n",
    "定義一個類別 Vegeta 繼承 DBFighter，新增終極閃光方法（final_flash），\n",
    "利用  Vegeta 建立 vegeta 物件，印出姓名與使用終極閃光方法\n",
    "'''\n",
    "\n",
    "class DBFighter():\n",
    "    '''\n",
    "    七龍珠格鬥遊戲\n",
    "    '''\n",
    "    def __init__(self, name):\n",
    "        self.name = name\n",
    "    \n",
    "    def punch(self):\n",
    "        return \"%s使用拳擊！\" % self.name\n",
    "    \n",
    "    def kick(self):\n",
    "        return \"%s使用踢擊！\" % self.name\n",
    "    \n",
    "    def shock_wave(self):\n",
    "        return \"%s使用氣功波！\" % self.name\n",
    "    \n",
    "class Goku(DBFighter):                            # 新增子類別 Goku() 繼承母類別 DBFighter()\n",
    "    '''\n",
    "    悟空類別\n",
    "    '''\n",
    "    # pass                                        # 先用 pass 檢查繼承的名稱\n",
    "    \n",
    "# goku = Goku(\"悟空\")\n",
    "# print(goku.name) \n",
    "# print(goku.punch())\n",
    "# print(goku.kick())\n",
    "# print(goku.shock_wave())\n",
    "    \n",
    "    def __init__(self, name, original_name):      # 在子類別 Goku() 裡面, 新增 original_name 屬性 (本名)\n",
    "        super().__init__(name)                    # 使用 super() 繼承母類別的屬性, 使用 pass一樣會繼承 \n",
    "        self.original_name = original_name        # 建立類別後 assignmemt, 才會有兩個屬性的 input\n",
    "    \n",
    "    def kamehameha(self):                         # 新增 kamehameha 方法\n",
    "        return \"%s使用龜派氣功！\" % self.name\n",
    "\n",
    "class Vegeta(DBFighter):                          # 新增子類別 Vegeta() 繼承母類別 DBFighter()\n",
    "    '''\n",
    "    貝吉塔類別\n",
    "    '''\n",
    "    def final_flash(self):                        # 在子類別 Vegeta() 裡面, 新增 final_flash() 方法\n",
    "        return \"%s使用終極閃光！\" % self.name\n",
    "\n",
    "goku = Goku(\"悟空\", \"卡洛特\")\n",
    "vegeta = Vegeta(\"貝吉塔\")\n",
    "print(goku.original_name)\n",
    "print(goku.kamehameha())\n",
    "print(vegeta.final_flash())"
   ]
  }
 ],
 "metadata": {
  "kernelspec": {
   "display_name": "Python 3",
   "language": "python",
   "name": "python3"
  },
  "language_info": {
   "codemirror_mode": {
    "name": "ipython",
    "version": 3
   },
   "file_extension": ".py",
   "mimetype": "text/x-python",
   "name": "python",
   "nbconvert_exporter": "python",
   "pygments_lexer": "ipython3",
   "version": "3.6.1"
  }
 },
 "nbformat": 4,
 "nbformat_minor": 2
}
