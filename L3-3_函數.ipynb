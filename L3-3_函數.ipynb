{
 "cells": [
  {
   "cell_type": "code",
   "execution_count": 6,
   "metadata": {},
   "outputs": [
    {
     "name": "stdout",
     "output_type": "stream",
     "text": [
      "Help on function squared in module __main__:\n",
      "\n",
      "squared(x)\n",
      "    將輸入的數自平方後回傳\n",
      "    將輸入的數自平方後回傳\n",
      "    將輸入的數自平方後回傳\n",
      "\n",
      "\n",
      "\n",
      "81\n"
     ]
    }
   ],
   "source": [
    "# 自訂函數 f(x) = x**2\n",
    "def squared(x):\n",
    "    '''\n",
    "    將輸入的數自平方後回傳\n",
    "    將輸入的數自平方後回傳\n",
    "    將輸入的數自平方後回傳\n",
    "    '''\n",
    "    # 說明使用''',可print出來\n",
    "    return x**2\n",
    "\n",
    "help(squared)\n",
    "print(\"\\n\")\n",
    "print(squared(9))"
   ]
  },
  {
   "cell_type": "code",
   "execution_count": 13,
   "metadata": {},
   "outputs": [
    {
     "name": "stdout",
     "output_type": "stream",
     "text": [
      "Help on function sign in module __main__:\n",
      "\n",
      "sign(x)\n",
      "    如果 x < 0 就輸出 -1\n",
      "    x == 0 就輸出 0\n",
      "    x > 0 就輸出 1\n",
      "\n",
      "x是-10的時候，sign(x)是-1\n",
      "x是-9的時候，sign(x)是-1\n",
      "x是-8的時候，sign(x)是-1\n",
      "x是-7的時候，sign(x)是-1\n",
      "x是-6的時候，sign(x)是-1\n",
      "x是-5的時候，sign(x)是-1\n",
      "x是-4的時候，sign(x)是-1\n",
      "x是-3的時候，sign(x)是-1\n",
      "x是-2的時候，sign(x)是-1\n",
      "x是-1的時候，sign(x)是-1\n",
      "x是0的時候，sign(x)是0\n",
      "x是1的時候，sign(x)是1\n",
      "x是2的時候，sign(x)是1\n",
      "x是3的時候，sign(x)是1\n",
      "x是4的時候，sign(x)是1\n",
      "x是5的時候，sign(x)是1\n",
      "x是6的時候，sign(x)是1\n",
      "x是7的時候，sign(x)是1\n",
      "x是8的時候，sign(x)是1\n",
      "x是9的時候，sign(x)是1\n",
      "x是10的時候，sign(x)是1\n"
     ]
    }
   ],
   "source": [
    "# 練習：自訂 Sign 函數\n",
    "def sign(x):\n",
    "    '''\n",
    "    如果 x < 0 就輸出 -1\n",
    "    x == 0 就輸出 0\n",
    "    x > 0 就輸出 1\n",
    "    '''\n",
    "    if x < 0:\n",
    "        return(-1)\n",
    "    elif x > 0:\n",
    "        return(1)\n",
    "    else:\n",
    "        return(0)\n",
    "\n",
    "help(sign)\n",
    "# print(sign(-3))\n",
    "for i in range(-10, 11):\n",
    "    print(\"x是%i的時候，sign(x)是%i\" % (i, sign(i)))"
   ]
  },
  {
   "cell_type": "code",
   "execution_count": 20,
   "metadata": {},
   "outputs": [
    {
     "name": "stdout",
     "output_type": "stream",
     "text": [
      "Help on function circle_calculate in module __main__:\n",
      "\n",
      "circle_calculate(r, is_area)\n",
      "    計算圓的面積或周長,\n",
      "    當 is_area 參數為True 的時候回傳面積\n",
      "    當 is_area 參數為False 的時候回傳周長\n",
      "\n",
      "半徑為 3 的圓面積為 28.2743\n",
      "半徑為 3 的圓周長為 18.8496\n"
     ]
    }
   ],
   "source": [
    "import math        # 要使用 pi 得引入套件 math\n",
    "\n",
    "# 定義自訂函數\n",
    "def circle_calculate(r, is_area):          # 若 is_area = True, 預設為True\n",
    "    '''\n",
    "    計算圓的面積或周長,\n",
    "    當 is_area 參數為True 的時候回傳面積\n",
    "    當 is_area 參數為False 的時候回傳周長\n",
    "    '''\n",
    "    if is_area == True:\n",
    "        return math.pi * r**2\n",
    "    else:\n",
    "        return math.pi * r * 2\n",
    "\n",
    "help(circle_calculate)\n",
    "radius = 3\n",
    "# print(\"半徑為 %i 的圓面積為 %.4f\" % (radius, circle_calculate(3)))\n",
    "print(\"半徑為 %i 的圓面積為 %.4f\" % (radius, circle_calculate(3, is_area = True)))\n",
    "print(\"半徑為 %i 的圓周長為 %.4f\" % (radius, circle_calculate(3, is_area = False)))"
   ]
  },
  {
   "cell_type": "code",
   "execution_count": 23,
   "metadata": {},
   "outputs": [
    {
     "name": "stdout",
     "output_type": "stream",
     "text": [
      "Help on function circle_calculate in module __main__:\n",
      "\n",
      "circle_calculate(r)\n",
      "    計算圓的面積或周長,\n",
      "    回傳 tuple 的第零個元素為圓面積\n",
      "    第一個元素為圓周長\n",
      "\n",
      "(28.274333882308138, 18.84955592153876)\n",
      "半徑為 3 的圓面積為 28.2743\n",
      "半徑為 3 的圓周長為 18.8496\n"
     ]
    }
   ],
   "source": [
    "import math        # 要使用 pi 得引入套件 math\n",
    "\n",
    "# 定義自訂函數\n",
    "def circle_calculate(r):\n",
    "    '''\n",
    "    計算圓的面積或周長,\n",
    "    回傳 tuple 的第零個元素為圓面積\n",
    "    第一個元素為圓周長\n",
    "    '''\n",
    "    return math.pi * r**2 , math.pi * r * 2\n",
    "\n",
    "help(circle_calculate)\n",
    "radius = 3\n",
    "print(circle_calculate(radius))\n",
    "print(\"半徑為 %i 的圓面積為 %.4f\" % (radius, circle_calculate(3)[0]))\n",
    "print(\"半徑為 %i 的圓周長為 %.4f\" % (radius, circle_calculate(3)[1]))"
   ]
  },
  {
   "cell_type": "code",
   "execution_count": 24,
   "metadata": {},
   "outputs": [
    {
     "name": "stdout",
     "output_type": "stream",
     "text": [
      "未排序的:  [80, 7, 52, 39, 51, 11, 56, 25, 27, 63]\n",
      "已遞增排序的:  [7, 11, 25, 27, 39, 51, 52, 56, 63, 80]\n"
     ]
    }
   ],
   "source": [
    "# Bubble sort\n",
    "import random\n",
    "\n",
    "def asc_exchange_sort(x):\n",
    "    '將輸入的序列遞增排序'\n",
    "    for i in range(len(x) - 1):\n",
    "        for j in range((i + 1), len(x)):\n",
    "            if x[j] < x[i]:\n",
    "            x[i], x[j] = x[j], x[i]\n",
    "    return x\n",
    "            \n",
    "my_list = random.sample(range(0, 100), 10)   # 產生一組隨機數\n",
    "print(\"未排序的: \", my_list)\n",
    "print(\"已遞增排序的: \", asc_exchange_sort(my_list))"
   ]
  },
  {
   "cell_type": "code",
   "execution_count": 44,
   "metadata": {},
   "outputs": [
    {
     "name": "stdout",
     "output_type": "stream",
     "text": [
      "未排序的:  [90, 65, 45, 18, 80, 12, 15, 23, 97, 74]\n",
      "已遞增排序的:  [12, 15, 18, 23, 45, 65, 74, 80, 90, 97]\n",
      "已遞減排序的:  [97, 90, 80, 74, 65, 45, 23, 18, 15, 12]\n"
     ]
    }
   ],
   "source": [
    "# Bubble sort, 遞減方法\n",
    "# 練習：在交換排序法中增加一個參數：reverse，預設 reverse = False 遞增排序\n",
    "import random\n",
    "\n",
    "def asc_exchange_sort(x, reverse = False):\n",
    "    '將輸入的序列遞減排序'\n",
    "    if reverse == False:\n",
    "        for i in range(len(x) - 1):\n",
    "            for j in range((i + 1), len(x)):\n",
    "                if x[j] < x[i]:\n",
    "                    x[i], x[j] = x[j], x[i]\n",
    "        return x\n",
    "    else:\n",
    "        for i in range(len(x) - 1):\n",
    "            for j in range((i + 1), len(x)):\n",
    "                if x[j] > x[i]:\n",
    "                    x[i], x[j] = x[j], x[i]\n",
    "        return x\n",
    "            \n",
    "my_list = random.sample(range(0, 100), 10)   # 產生一組隨機數\n",
    "print(\"未排序的: \", my_list)\n",
    "print(\"已遞增排序的: \", asc_exchange_sort(my_list))\n",
    "print(\"已遞減排序的: \", asc_exchange_sort(my_list, reverse = True))"
   ]
  },
  {
   "cell_type": "code",
   "execution_count": 37,
   "metadata": {},
   "outputs": [
    {
     "name": "stdout",
     "output_type": "stream",
     "text": [
      "檢查你的參數\n"
     ]
    }
   ],
   "source": [
    "# 錯誤處理\n",
    "# 在 except 語法後面連接錯誤的種類\n",
    "def squared(x):\n",
    "    try:\n",
    "        return x**2\n",
    "    except:\n",
    "        return \"檢查你的參數\"\n",
    "    \n",
    "my_squared = \"9\"\n",
    "print(squared(my_squared))"
   ]
  },
  {
   "cell_type": "code",
   "execution_count": 36,
   "metadata": {},
   "outputs": [
    {
     "name": "stdout",
     "output_type": "stream",
     "text": [
      "檢查輸入資料類型! \n"
     ]
    }
   ],
   "source": [
    "# 錯誤處理\n",
    "# 練習：幫 divide() 函數多加一個 except 處理輸入文字的錯誤\n",
    "def divide(x, y):\n",
    "    try:\n",
    "        return x / y\n",
    "    except ZeroDivisionError:\n",
    "        return \"除法的時候分母不得為零! \"\n",
    "    except TypeError:\n",
    "        return \"檢查輸入資料類型! \"\n",
    "    except:\n",
    "        return \"不知道是什麼錯, 請檢查! \"\n",
    "    \n",
    "print(divide(3, \"0\"))"
   ]
  }
 ],
 "metadata": {
  "kernelspec": {
   "display_name": "Python 3",
   "language": "python",
   "name": "python3"
  },
  "language_info": {
   "codemirror_mode": {
    "name": "ipython",
    "version": 3
   },
   "file_extension": ".py",
   "mimetype": "text/x-python",
   "name": "python",
   "nbconvert_exporter": "python",
   "pygments_lexer": "ipython3",
   "version": "3.6.1"
  }
 },
 "nbformat": 4,
 "nbformat_minor": 2
}
