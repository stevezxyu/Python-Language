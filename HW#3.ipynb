{
 "cells": [
  {
   "cell_type": "code",
   "execution_count": 6,
   "metadata": {},
   "outputs": [
    {
     "name": "stdout",
     "output_type": "stream",
     "text": [
      "4 is not prime！\n",
      "13 is prime！\n"
     ]
    }
   ],
   "source": [
    "# ch8.期中作業 3-1\n",
    "# 自訂函數 1：寫一個判斷輸入的正整數是否為質數的函數 is_prime()\n",
    "\n",
    "def is_prime(x):\n",
    "    factor = []\n",
    "    for i in range(1, x+1):               # i 在範圍 1到 x\n",
    "        if x % i == 0:                    # input的 x 除以 i 等於 0  \n",
    "            factor.append(i)              # append 傳出 factor中的 i\n",
    "    if len(factor) == 2:                  # 如果因素只有 2, 即為因數\n",
    "        print(\"%i is prime！\" % x)\n",
    "    else:\n",
    "        print(\"%i is not prime！\" % x)\n",
    "        \n",
    "is_prime(4)\n",
    "is_prime(13)"
   ]
  },
  {
   "cell_type": "code",
   "execution_count": 15,
   "metadata": {},
   "outputs": [
    {
     "name": "stdout",
     "output_type": "stream",
     "text": [
      "[1, 3, 4, 7, 11, 18]\n"
     ]
    }
   ],
   "source": [
    "# ch8.期中作業 3-2\n",
    "# 自訂函數 2：寫一個 Fibonacci 數列的產生函數，有三個輸入：第一個數字、第二個數字與數列長度 fib_gen()\n",
    "\n",
    "def fib_gen(f1, f2, seqlen):\n",
    "    fib = [f1, f2]\n",
    "    while len(fib) < seqlen:    # 當長度小於最後的數列\n",
    "        f1, f2=f2, f1+f2        # 第 1個數是 f1, 第 2個數是 f2, 第3個數是 f1+f2\n",
    "        fib.append(f2)\n",
    "    print(fib)\n",
    "    \n",
    "fib_gen(1, 3, 6)"
   ]
  },
  {
   "cell_type": "code",
   "execution_count": 22,
   "metadata": {},
   "outputs": [
    {
     "name": "stdout",
     "output_type": "stream",
     "text": [
      "本次擲骰子的結果是: 4\n"
     ]
    }
   ],
   "source": [
    "# ch8.期中作業 3-3-1\n",
    "# 自訂函數 3.1：寫一個公正的骰子 dice() 函數（使用 random.choice()）\n",
    "\n",
    "import random # 呼叫函數時使用隨機整數\n",
    "\n",
    "# 定義自訂函數\n",
    "def dice():\n",
    "    return random.choice(range(1, 7))\n",
    "\n",
    "print(\"本次擲骰子的結果是: %s\" % dice())"
   ]
  },
  {
   "cell_type": "code",
   "execution_count": 27,
   "metadata": {},
   "outputs": [
    {
     "name": "stdout",
     "output_type": "stream",
     "text": [
      "投擲累積3次\"6\"的紀錄: [1, 5, 5, 3, 5, 2, 4, 4, 4, 6, 2, 4, 3, 5, 3, 1, 4, 3, 6, 6] \n"
     ]
    }
   ],
   "source": [
    "# ch8.期中作業 3-3-2\n",
    "# 自訂函數 3.2：延續 3.1 寫一個 six_for_three_times() 函數計算擲幾次公正的骰子才會有三個六，\n",
    "# 並且把每次擲的記錄也回傳（使用 list 的 count() 方法）\n",
    "\n",
    "def six_for_three_times():\n",
    "    flips=[]                                                  # 將投擲骰子的結果放進向量\n",
    "    while flips.count(6) < 3:\n",
    "        flips.append(random.choice(range(1, 7)))              # 使用 flips.append 回傳到 flips向量裡\n",
    "    return flips\n",
    "\n",
    "print('投擲累積3次\\\"6\"的紀錄: %s ' % six_for_three_times())"
   ]
  }
 ],
 "metadata": {
  "kernelspec": {
   "display_name": "Python 3",
   "language": "python",
   "name": "python3"
  },
  "language_info": {
   "codemirror_mode": {
    "name": "ipython",
    "version": 3
   },
   "file_extension": ".py",
   "mimetype": "text/x-python",
   "name": "python",
   "nbconvert_exporter": "python",
   "pygments_lexer": "ipython3",
   "version": "3.6.1"
  }
 },
 "nbformat": 4,
 "nbformat_minor": 2
}
