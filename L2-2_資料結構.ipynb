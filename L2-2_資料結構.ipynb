{
 "cells": [
  {
   "cell_type": "code",
   "execution_count": 3,
   "metadata": {},
   "outputs": [
    {
     "name": "stdout",
     "output_type": "stream",
     "text": [
      "<class 'list'>\n",
      "['Chicago Bulls', 72, 10, 0.8780487804878049, True]\n",
      "Chicago Bulls\n",
      "0.8780487804878049\n"
     ]
    }
   ],
   "source": [
    "team_name = \"Chicago Bulls\"\n",
    "wins = 72\n",
    "losses = 10\n",
    "win_percentage = wins / (wins + losses)\n",
    "is_champion = True\n",
    "\n",
    "chicago_bulls = [team_name, wins, losses, win_percentage, is_champion]\n",
    "print(type(chicago_bulls))\n",
    "print(chicago_bulls)\n",
    "print(chicago_bulls[0])\n",
    "print(chicago_bulls[-2])"
   ]
  },
  {
   "cell_type": "code",
   "execution_count": 16,
   "metadata": {},
   "outputs": [
    {
     "name": "stdout",
     "output_type": "stream",
     "text": [
      "Matthew Perry\n",
      "六人行有幾季: 10 季\n",
      "誰飾演 Chandler Bing: Matthew Perry\n",
      "('SitCom', 10, 236, ['Jennifer Aniston', 'Courteney Cox', 'Lisa Kudrow', 'Matt LeBlanc', 'Matthew Perry', 'David Schwimmer'])\n"
     ]
    }
   ],
   "source": [
    "# 練習 1\n",
    "# 建立一個 list 叫做 friends_list 儲存這些資訊\n",
    "genre = \"SitCom\"\n",
    "seasons = 10\n",
    "episodes = 236\n",
    "stars = [\"Jennifer Aniston\", \"Courteney Cox\", \"Lisa Kudrow\",\n",
    "\"Matt LeBlanc\", \"Matthew Perry\", \"David Schwimmer\"]\n",
    "\n",
    "# 將季數與 \"Matthew Perry\" 印出, Python 的索引值從 0 開始算\n",
    "print(stars[4])\n",
    "\n",
    "# list 容納不同的變數類型（str, int, float, bool, complex）\n",
    "friends_list = (genre, seasons, episodes, stars)\n",
    "print(\"六人行有幾季: %i 季\" % friends_list[1])\n",
    "print(\"誰飾演 Chandler Bing: %s\" % friends_list[-1][-2])\n",
    "# [-1]表示 friends_list最後一個元素 list, 擷取 stars這個 list,  [-2] 表示 stars最後第二個元素 list, 擷取出 \"Matthew Perry\"\n",
    "\n",
    "# tuple跟 list 很像，但是我們不能新增，刪除或者更新 tuple 的元素\n",
    "friends_list = (genre, seasons, episodes, stars)\n",
    "friends_tuple = tuple(friends_list)\n",
    "print(friends_tuple)"
   ]
  },
  {
   "cell_type": "code",
   "execution_count": 17,
   "metadata": {},
   "outputs": [
    {
     "name": "stdout",
     "output_type": "stream",
     "text": [
      "['Chicago Bulls', 72, 10, 0.8780487804878049, True, '1995-96']\n",
      "['Chicago Bulls', 72, 10, 0.8780487804878049, True, '1995-96']\n"
     ]
    }
   ],
   "source": [
    "# 練習2\n",
    "team_name = \"Chicago Bulls\"\n",
    "wins = 72\n",
    "losses = 10\n",
    "win_percentage = wins / (wins + losses)\n",
    "is_champion = True\n",
    "\n",
    "# use list\n",
    "chicago_bulls_list = [team_name, wins, losses, win_percentage, is_champion]\n",
    "season = \"1995-96\"\n",
    "chicago_bulls_list.append(season)\n",
    "print(chicago_bulls_list)\n",
    "\n",
    "# use tuple\n",
    "chicago_bulls_list = [team_name, wins, losses, win_percentage, is_champion]\n",
    "chicago_bulls_tuple = tuple(chicago_bulls_list)\n",
    "season = \"1995-96\"\n",
    "chicago_bulls_list.append(season)\n",
    "print(chicago_bulls_list)"
   ]
  },
  {
   "cell_type": "code",
   "execution_count": 20,
   "metadata": {},
   "outputs": [
    {
     "name": "stdout",
     "output_type": "stream",
     "text": [
      "<class 'dict'>\n",
      "10\n"
     ]
    }
   ],
   "source": [
    "# dict 帶有鍵值（key）的 list, 建立時使用大括號 {}\n",
    "team_name = \"Chicago Bulls\"\n",
    "wins = 72\n",
    "losses = 10\n",
    "win_percentage = wins / (wins + losses)\n",
    "is_champion = True\n",
    "\n",
    "chicago_bulls = {\n",
    "    \"team_name\": \"Chicago Bulls\",\n",
    "    \"wins\": 72,\n",
    "    \"losses\" : 10,\n",
    "    \"is_champion\": True\n",
    "}\n",
    "\n",
    "print(type(chicago_bulls))\n",
    "print(chicago_bulls[\"losses\"])  # 擷取 key的 value, 不須透過 list"
   ]
  },
  {
   "cell_type": "code",
   "execution_count": 23,
   "metadata": {},
   "outputs": [
    {
     "name": "stdout",
     "output_type": "stream",
     "text": [
      "六人行有 236 集\n",
      "Phoebe Buffay 由 Lisa Kudrow 飾演\n"
     ]
    }
   ],
   "source": [
    "# 練習3\n",
    "# 建立一個 dict 叫做 friends_dict 儲存這些資訊\n",
    "genre = \"SitCom\"\n",
    "seasons = 10\n",
    "episodes = 236\n",
    "stars = [\"Jennifer Aniston\", \"Courteney Cox\", \"Lisa Kudrow\",\n",
    "\"Matt LeBlanc\", \"Matthew Perry\", \"David Schwimmer\"]\n",
    "\n",
    "friends_dict = {\n",
    "    \"genre\": genre,\n",
    "    \"seasons\": seasons,\n",
    "    \"episodes\": episodes,\n",
    "    \"stars\": stars\n",
    "}\n",
    "\n",
    "# 建立好以後，請將季數與 \"Lisa Kudrow\" 印出\n",
    "print(\"六人行有 %i 集\" % friends_dict[\"episodes\"])\n",
    "print(\"Phoebe Buffay 由 %s 飾演\" % friends_dict[\"stars\"][2])"
   ]
  },
  {
   "cell_type": "code",
   "execution_count": 35,
   "metadata": {},
   "outputs": [
    {
     "name": "stdout",
     "output_type": "stream",
     "text": [
      "<class 'list'>\n",
      "6\n",
      "<class 'set'>\n",
      "3\n"
     ]
    }
   ],
   "source": [
    "# list\n",
    "rgb = [\"red\", \"green\", \"blue\", \"blue\", \"green\", \"red\"]\n",
    "print(type(rgb))   # 用 type 檢查是 list格式\n",
    "print(len(rgb))    # len 會回傳物件 lsit有幾個元素\n",
    "\n",
    "# set 存放唯一值（unique values）的結構, 建立時使用大括號 {}\n",
    "# rgb = {\"red\", \"green\", \"blue\", \"blue\", \"green\", \"red\"}   \n",
    "# {} 字典 or 及何時使用\n",
    "\n",
    "rgb = set(rgb)\n",
    "print(type(rgb))   # 用 type 檢查是 set格式\n",
    "print(len(rgb))    # len 會回傳物件 set有幾個元素          "
   ]
  }
 ],
 "metadata": {
  "kernelspec": {
   "display_name": "Python 3",
   "language": "python",
   "name": "python3"
  },
  "language_info": {
   "codemirror_mode": {
    "name": "ipython",
    "version": 3
   },
   "file_extension": ".py",
   "mimetype": "text/x-python",
   "name": "python",
   "nbconvert_exporter": "python",
   "pygments_lexer": "ipython3",
   "version": "3.6.1"
  }
 },
 "nbformat": 4,
 "nbformat_minor": 2
}
