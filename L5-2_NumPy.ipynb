{
 "cells": [
  {
   "cell_type": "code",
   "execution_count": 5,
   "metadata": {},
   "outputs": [
    {
     "name": "stdout",
     "output_type": "stream",
     "text": [
      "[1.86411, 3.1068499999999997, 6.213699999999999, 13.04877, 26.21870715]\n"
     ]
    }
   ],
   "source": [
    "# Python 的 list 無法使用 element-wise 運算\n",
    "# 在不引用套件的情況下我們可以使用迴圈來處理\n",
    "\n",
    "km_list = [3, 5, 10, 21, 42.195]\n",
    "km_to_mile = 0.621371192\n",
    "mile_list = []\n",
    "\n",
    "for i in km_list:\n",
    "    mile_list.append(i * 0.62137)\n",
    "    \n",
    "print(mile_list)"
   ]
  },
  {
   "cell_type": "code",
   "execution_count": 6,
   "metadata": {},
   "outputs": [
    {
     "name": "stdout",
     "output_type": "stream",
     "text": [
      "[1.864113576, 3.10685596, 6.21371192, 13.048795032000001, 26.21875744644]\n"
     ]
    }
   ],
   "source": [
    "# 或者使用 map() 和 lambda 函數 來處理\n",
    "\n",
    "km_list = [3, 5, 10, 21, 42.195]\n",
    "mile_list = list(map(lambda x: x * 0.621371192, km_list))\n",
    "print(mile_list)"
   ]
  },
  {
   "cell_type": "code",
   "execution_count": 10,
   "metadata": {},
   "outputs": [
    {
     "name": "stdout",
     "output_type": "stream",
     "text": [
      "[  1.86411358   3.10685596   6.21371192  13.04879503  26.21875745]\n"
     ]
    }
   ],
   "source": [
    "import numpy as np      # 引入 numpy 套件\n",
    "# 把套件名稱變成縮寫\n",
    "\n",
    "km_list = [3, 5, 10, 21, 42.195]\n",
    "km_arr = np.array(km_list)        # 轉換成 np.array\n",
    "\n",
    "# print(type(km_arr))\n",
    "print(km_arr * 0.621371192)"
   ]
  },
  {
   "cell_type": "code",
   "execution_count": 13,
   "metadata": {},
   "outputs": [
    {
     "name": "stdout",
     "output_type": "stream",
     "text": [
      "[ 21.85171573  20.97505669  21.75028214  24.7473475   21.44127836]\n"
     ]
    }
   ],
   "source": [
    "# 練習: 計算這五個人的 BMI\n",
    "import numpy as np\n",
    "\n",
    "heights = np.array([173, 168, 171, 189, 179])\n",
    "weights = np.array([65.4, 59.2, 63.6, 88.4, 68.7])\n",
    "bmis = weights / (heights/100)**2\n",
    "print(bmis)"
   ]
  },
  {
   "cell_type": "code",
   "execution_count": 16,
   "metadata": {},
   "outputs": [
    {
     "name": "stdout",
     "output_type": "stream",
     "text": [
      "[1 2 3 4 5 6 7 8 9]\n"
     ]
    }
   ],
   "source": [
    "# 建立 ndarray 的方法\n",
    "# numpy.arange()\n",
    "# 可以只提供 stop 輸入\n",
    "\n",
    "arr = np.arange(1, 10)\n",
    "print(arr)"
   ]
  },
  {
   "cell_type": "code",
   "execution_count": 17,
   "metadata": {},
   "outputs": [
    {
     "name": "stdout",
     "output_type": "stream",
     "text": [
      "[  1.    2.5   4.    5.5   7.    8.5  10. ]\n"
     ]
    }
   ],
   "source": [
    "# numpy.linspace()\n",
    "# 輸入起始值、停止值與個數\n",
    "arr = np.linspace(1, 10, 7)\n",
    "print(arr)"
   ]
  },
  {
   "cell_type": "code",
   "execution_count": 18,
   "metadata": {},
   "outputs": [
    {
     "name": "stdout",
     "output_type": "stream",
     "text": [
      "[ 1.  1.  1.  1.  1.]\n",
      "\n",
      "\n",
      "[[ 1.  1.  1.]\n",
      " [ 1.  1.  1.]]\n",
      "\n",
      "\n",
      "[[[ 1.  1.]\n",
      "  [ 1.  1.]\n",
      "  [ 1.  1.]]\n",
      "\n",
      " [[ 1.  1.]\n",
      "  [ 1.  1.]\n",
      "  [ 1.  1.]]]\n"
     ]
    }
   ],
   "source": [
    "# numpy.ones()\n",
    "'''\n",
    "建立都是 1 的陣列\n",
    "輸入一個數字建立一維的陣列\n",
    "輸入 tuple 建立多維的陣列\n",
    "'''\n",
    "import numpy as np\n",
    "# np.zeros   0的矩陣\n",
    "# np.ones    1的矩陣\n",
    "# np.empty   空的矩陣, 還未放東西進去\n",
    "\n",
    "arr = np.ones(5)             # 1*5的矩陣\n",
    "print(arr)\n",
    "print(\"\\n\")\n",
    "arr = np.ones((2, 3))        # 2*3的矩陣\n",
    "print(arr)\n",
    "print(\"\\n\")\n",
    "arr = np.ones((2, 3, 2))     # 2個 3*2的矩陣\n",
    "print(arr)"
   ]
  },
  {
   "cell_type": "code",
   "execution_count": 19,
   "metadata": {},
   "outputs": [
    {
     "name": "stdout",
     "output_type": "stream",
     "text": [
      "[[ 1.  0.  0.  0.  0.]\n",
      " [ 0.  1.  0.  0.  0.]\n",
      " [ 0.  0.  1.  0.  0.]\n",
      " [ 0.  0.  0.  1.  0.]\n",
      " [ 0.  0.  0.  0.  1.]]\n"
     ]
    }
   ],
   "source": [
    "# 建立單位矩陣\n",
    "# 輸入 n 就會得到 nxn 的單位矩陣\n",
    "arr = np.eye(5)\n",
    "print(arr)"
   ]
  },
  {
   "cell_type": "code",
   "execution_count": 20,
   "metadata": {},
   "outputs": [
    {
     "name": "stdout",
     "output_type": "stream",
     "text": [
      "[[1 0 0]\n",
      " [0 2 0]\n",
      " [0 0 3]]\n"
     ]
    }
   ],
   "source": [
    "# numpy.diag()\n",
    "# 建立對角矩陣\n",
    "arr = np.diag([1, 2, 3])\n",
    "print(arr)"
   ]
  },
  {
   "cell_type": "code",
   "execution_count": 22,
   "metadata": {},
   "outputs": [
    {
     "name": "stdout",
     "output_type": "stream",
     "text": [
      "[ 0.68888587  0.35981014  0.74512267  0.61877836  0.04953286]\n"
     ]
    },
    {
     "data": {
      "image/png": "[encoded data removed]",
      "text/plain": [
       "<matplotlib.figure.Figure at 0x7b1e128>"
      ]
     },
     "metadata": {},
     "output_type": "display_data"
    }
   ],
   "source": [
    "import matplotlib.pyplot as plt     # 引入 plot函數\n",
    "\n",
    "arr = np.random.rand(1000)          # 符合均勻分配的隨機變數\n",
    "print(arr[:5])\n",
    "plt.hist(arr)\n",
    "plt.show()"
   ]
  },
  {
   "cell_type": "code",
   "execution_count": 23,
   "metadata": {},
   "outputs": [
    {
     "name": "stdout",
     "output_type": "stream",
     "text": [
      "[-0.9482767  -0.85124128  0.48113998  0.66723919 -1.02775334]\n"
     ]
    },
    {
     "data": {
      "image/png": "[encoded data removed]",
      "text/plain": [
       "<matplotlib.figure.Figure at 0x7dd8240>"
      ]
     },
     "metadata": {},
     "output_type": "display_data"
    }
   ],
   "source": [
    "import matplotlib.pyplot as plt     # 引入 plot函數\n",
    "\n",
    "arr = np.random.randn(1000)         # 符合標準常態分配的隨機變數\n",
    "print(arr[:5])\n",
    "plt.hist(arr)\n",
    "plt.show()"
   ]
  },
  {
   "cell_type": "code",
   "execution_count": 24,
   "metadata": {},
   "outputs": [
    {
     "name": "stdout",
     "output_type": "stream",
     "text": [
      "[46 36 73 70  9 85  3 54 35 86]\n"
     ]
    }
   ],
   "source": [
    "# numpy.random.randint(low, high, size)\n",
    "# 建立介於 low，high 之間的整數\n",
    "import matplotlib.pyplot as plt     # 引入 plot函數\n",
    "\n",
    "arr = np.random.randint(0, 100, size = 10)\n",
    "print(arr)"
   ]
  },
  {
   "cell_type": "code",
   "execution_count": 25,
   "metadata": {},
   "outputs": [
    {
     "name": "stdout",
     "output_type": "stream",
     "text": [
      "[-2.         -1.91836735 -1.83673469 -1.75510204 -1.67346939 -1.59183673\n",
      " -1.51020408 -1.42857143 -1.34693878 -1.26530612 -1.18367347 -1.10204082\n",
      " -1.02040816 -0.93877551 -0.85714286 -0.7755102  -0.69387755 -0.6122449\n",
      " -0.53061224 -0.44897959 -0.36734694 -0.28571429 -0.20408163 -0.12244898\n",
      " -0.04081633  0.04081633  0.12244898  0.20408163  0.28571429  0.36734694\n",
      "  0.44897959  0.53061224  0.6122449   0.69387755  0.7755102   0.85714286\n",
      "  0.93877551  1.02040816  1.10204082  1.18367347  1.26530612  1.34693878\n",
      "  1.42857143  1.51020408  1.59183673  1.67346939  1.75510204  1.83673469\n",
      "  1.91836735  2.        ]\n"
     ]
    }
   ],
   "source": [
    "# 練習 1, 在 [-2, 2] 之間均分出 50 個數字的數列\n",
    "\n",
    "import numpy as np\n",
    "arr = np.linspace(-2, 2, 50)\n",
    "print(arr)"
   ]
  },
  {
   "cell_type": "code",
   "execution_count": 26,
   "metadata": {},
   "outputs": [
    {
     "name": "stdout",
     "output_type": "stream",
     "text": [
      "[[ 1.  0.  0.  0.  0.]\n",
      " [ 0.  1.  0.  0.  0.]\n",
      " [ 0.  0.  1.  0.  0.]\n",
      " [ 0.  0.  0.  1.  0.]\n",
      " [ 0.  0.  0.  0.  1.]]\n"
     ]
    }
   ],
   "source": [
    "# 練習 2, 建立一個 (5, 5) 的單位矩陣\n",
    "\n",
    "arr = np.eye(5)\n",
    "print(arr)"
   ]
  },
  {
   "cell_type": "code",
   "execution_count": 27,
   "metadata": {},
   "outputs": [
    {
     "name": "stdout",
     "output_type": "stream",
     "text": [
      "[184 121 114 128 195]\n"
     ]
    }
   ],
   "source": [
    "# 練習 3, 在隨機產出 5 個介於 100 與 200 之間整數的數列\n",
    "\n",
    "arr = np.random.randint(100, 200, size = 5)\n",
    "print(arr)"
   ]
  }
 ],
 "metadata": {
  "kernelspec": {
   "display_name": "Python 3",
   "language": "python",
   "name": "python3"
  },
  "language_info": {
   "codemirror_mode": {
    "name": "ipython",
    "version": 3
   },
   "file_extension": ".py",
   "mimetype": "text/x-python",
   "name": "python",
   "nbconvert_exporter": "python",
   "pygments_lexer": "ipython3",
   "version": "3.6.1"
  }
 },
 "nbformat": 4,
 "nbformat_minor": 2
}
